{
 "cells": [
  {
   "cell_type": "markdown",
   "metadata": {},
   "source": [
    "# 01: Úvod a vizualizace"
   ]
  },
  {
   "cell_type": "markdown",
   "metadata": {},
   "source": [
    "## Import základních balíčků"
   ]
  },
  {
   "cell_type": "markdown",
   "metadata": {},
   "source": [
    "### NumPy \n",
    "  * Balíček pro rychlé „vědecké“ výpočty (zejména lineární algebra a náhodná čísla).\n",
    "  * Většinou se jedná jen o interface k vysoce optimalizovaným C/C++/Fortran knihovnám.\n",
    "  * http://www.numpy.org/\n",
    "\n",
    "### pandas\n",
    "  * Oblíbený nástroj pro datovou analýzu.\n",
    "  * Pomáhá usnadnit práci s tabulkovými daty.\n",
    "  * http://pandas.pydata.org/\n",
    "\n",
    "### scikit-learn (sklearn)\n",
    "  * Soubor nástrojů datové vědy psaný v Pythonu.\n",
    "  * Staví na NumPy, [SciPy](https://www.scipy.org/) a matplotlib\n",
    "  * http://scikit-learn.org/stable/\n",
    "  \n",
    "### matplotlib\n",
    "  * Základní knihovna pro vykreslování grafů.\n",
    "  * https://matplotlib.org/\n",
    "\n",
    "### seaborn\n",
    "  * Nástroj pro vizualizaci dat, založený na matplotlib.\n",
    "  * https://seaborn.pydata.org/"
   ]
  },
  {
   "cell_type": "code",
   "execution_count": 1,
   "metadata": {},
   "outputs": [],
   "source": [
    "import numpy as np\n",
    "import pandas as pd\n",
    "import sklearn as skit\n",
    "import matplotlib.pyplot as plt\n",
    "import seaborn as sns"
   ]
  },
  {
   "cell_type": "markdown",
   "metadata": {},
   "source": [
    "## Základní práce s daty pomocí knihovny pandas\n",
    "\n",
    "  - Načtěte datasety data1.csv a data2.csv pomocí pandas.\n",
    "  - Zjistěte, jakých typů jsou data ve sloupcích (obsahují stringy, čísla, ...? Jaký mají rozsah?)"
   ]
  },
  {
   "cell_type": "markdown",
   "metadata": {},
   "source": [
    "### Načítání dat\n",
    "\n",
    "  - Načítání dat z csv souborů do pandas typu DataFrame."
   ]
  },
  {
   "cell_type": "code",
   "execution_count": 2,
   "metadata": {},
   "outputs": [],
   "source": [
    "data1 = pd.read_csv('data1.csv')\n",
    "data2 = pd.read_csv('data2.csv',sep=';')"
   ]
  },
  {
   "cell_type": "markdown",
   "metadata": {},
   "source": [
    "### Pomocí pandas funkcí si můžeme zobrazit základní informace o datasetu"
   ]
  },
  {
   "cell_type": "code",
   "execution_count": 3,
   "metadata": {},
   "outputs": [],
   "source": [
    "df = data2\n",
    "#df.head()\n",
    "#df.info()\n",
    "#df.describe()\n",
    "#df.isnull().sum()\n",
    "#df.notnull().sum()\n",
    "#display(df.head())\n",
    "#df.head()"
   ]
  },
  {
   "cell_type": "markdown",
   "metadata": {},
   "source": [
    "### Základy přístupu k datům "
   ]
  },
  {
   "cell_type": "code",
   "execution_count": null,
   "metadata": {},
   "outputs": [],
   "source": [
    "#data1['Age'] # vrátí sloupec se jménem (pandas.Series.name) Age\n",
    "#data1.Age # totéž co výše\n",
    "#data1['Age'][:10] # vrátí prvních 10 záznamů ze sloupce Age \n",
    "#data1['Age'][:3][[True, False, True]]\n",
    "#data1['Age'] > 30 # podmínka se použije na všechny záznamy -> vrací pandas.Series s výsledky (hodnoty True nebo False)\n",
    "#data1[data1['Age'] > 30] # vrátí jen osoby starší než 30 let\n",
    "#data1[['Age', 'Survived']].head() # vrátí jen zadané sloupce\n",
    "#data1_tmp = data1.copy() # vytvoří hlubokou kopii dataframe\n",
    "#data1_tmp.columns = range(12) # přejmenování sloupců\n",
    "#display(data1.head())\n",
    "#data1_tmp.head()\n",
    "#data1[1:2] # vrací první řádek\n",
    "#data1.loc[1,['Age', 'Sex']] # indexy (viz .loc? a .iloc?)"
   ]
  },
  {
   "cell_type": "markdown",
   "metadata": {},
   "source": [
    "## Úloha 01: Zřetězení dat\n",
    "\n",
    "  - Připojte data2.csv za data1.csv následujícím způsobem:\n",
    "      - Data (sloupce), která nejsou v data1.csv jsou v data2.csv vynechána.\n",
    "      - Spočítejte věk pomocí sloupce BirthYear (rok narození) v data2.csv a uložte jej do sloupce Age.\n",
    "      - PasangerId musí být unikátní.\n",
    "      - Použijte metodu pandas.concat."
   ]
  },
  {
   "cell_type": "code",
   "execution_count": null,
   "metadata": {},
   "outputs": [],
   "source": [
    "### sem napište svůj kód"
   ]
  },
  {
   "cell_type": "markdown",
   "metadata": {},
   "source": [
    "## Vizualizace pomocí pandas a seaborn"
   ]
  },
  {
   "cell_type": "code",
   "execution_count": 5,
   "metadata": {},
   "outputs": [],
   "source": [
    "import matplotlib.pyplot as plt # takto se matplotlib standardně importuje\n",
    "import matplotlib\n",
    "# bez násl. řádku někdy nefunguje vykreslování grafů v Jupyter noteboocích\n",
    "%matplotlib inline \n",
    "matplotlib.style.use('ggplot')"
   ]
  },
  {
   "cell_type": "markdown",
   "metadata": {},
   "source": [
    "### Vliv sloupců Pclass, Age a Sex na přežití cestujících"
   ]
  },
  {
   "cell_type": "code",
   "execution_count": 7,
   "metadata": {},
   "outputs": [
    {
     "ename": "NameError",
     "evalue": "name 'data' is not defined",
     "output_type": "error",
     "traceback": [
      "\u001b[0;31m---------------------------------------------------------------------------\u001b[0m",
      "\u001b[0;31mNameError\u001b[0m                                 Traceback (most recent call last)",
      "\u001b[0;32m<ipython-input-7-6f2dfe05e769>\u001b[0m in \u001b[0;36m<module>\u001b[0;34m()\u001b[0m\n\u001b[0;32m----> 1\u001b[0;31m \u001b[0mdata\u001b[0m\u001b[0;34m.\u001b[0m\u001b[0mplot\u001b[0m\u001b[0;34m(\u001b[0m\u001b[0;34m)\u001b[0m \u001b[0;31m# výchozí chování metody plot()\u001b[0m\u001b[0;34m\u001b[0m\u001b[0m\n\u001b[0m\u001b[1;32m      2\u001b[0m \u001b[0;31m#podívejte se, jaké druhy grafů jsou k dispozici\u001b[0m\u001b[0;34m\u001b[0m\u001b[0;34m\u001b[0m\u001b[0m\n\u001b[1;32m      3\u001b[0m \u001b[0;31m#data.plot?\u001b[0m\u001b[0;34m\u001b[0m\u001b[0;34m\u001b[0m\u001b[0m\n\u001b[1;32m      4\u001b[0m \u001b[0;34m\u001b[0m\u001b[0m\n\u001b[1;32m      5\u001b[0m \u001b[0;31m# získání přeživších a nepřeživších osob\u001b[0m\u001b[0;34m\u001b[0m\u001b[0;34m\u001b[0m\u001b[0m\n",
      "\u001b[0;31mNameError\u001b[0m: name 'data' is not defined"
     ]
    }
   ],
   "source": [
    "#data.plot() # výchozí chování metody plot()\n",
    "#podívejte se, jaké druhy grafů jsou k dispozici\n",
    "#data.plot?\n",
    "\n",
    "# získání přeživších a nepřeživších osob\n",
    "survived = data[data['Survived'] == 1]\n",
    "not_survived = data[data['Survived'] == 0]\n",
    "\n",
    "ax = survived.plot.scatter(x='Age', y='Pclass', color='Green', label='Survived')\n",
    "not_survived.plot(x='Age', y='Pclass', kind='scatter', color='Black', label='Not Survived')\n",
    "# vykreslení grafů do jednoho obrázku:\n",
    "# not_survived.plot.scatter(x='Age', y='Pclass', color='Black', label='Not Survived', ax = ax)"
   ]
  },
  {
   "cell_type": "code",
   "execution_count": null,
   "metadata": {},
   "outputs": [],
   "source": [
    "plt.figure(figsize=(9,12)) # velikost figsize se určuje v palcích (angl. inches)\n",
    "plt.subplot(321) # tři řádky a dva sloupce, přiřaď následující graf do prvního slotu\n",
    "survived['Age'].plot.hist(color='Green')\n",
    "plt.subplot(322)\n",
    "not_survived['Age'].plot.hist(color='Black')\n",
    "plt.subplot(323)\n",
    "survived['Pclass'].plot.hist(color='Green')\n",
    "plt.subplot(324)\n",
    "not_survived['Pclass'].plot.hist(color='Black')\n",
    "plt.subplot(325)\n",
    "survived['Sex'].apply(lambda x: 1 if x == 'female' else 0).plot.hist(color='Green')\n",
    "plt.subplot(326)\n",
    "not_survived['Sex'].apply(lambda x: 1 if x == 'female' else 0).plot.hist(color='Black')"
   ]
  },
  {
   "cell_type": "markdown",
   "metadata": {},
   "source": [
    "## Seaborne: jak zjistit vztahy mezi příznaky"
   ]
  },
  {
   "cell_type": "code",
   "execution_count": 8,
   "metadata": {},
   "outputs": [
    {
     "ename": "NameError",
     "evalue": "name 'data' is not defined",
     "output_type": "error",
     "traceback": [
      "\u001b[0;31m---------------------------------------------------------------------------\u001b[0m",
      "\u001b[0;31mNameError\u001b[0m                                 Traceback (most recent call last)",
      "\u001b[0;32m<ipython-input-8-a4c178e88106>\u001b[0m in \u001b[0;36m<module>\u001b[0;34m()\u001b[0m\n\u001b[1;32m      1\u001b[0m \u001b[0mplt\u001b[0m\u001b[0;34m.\u001b[0m\u001b[0mfigure\u001b[0m\u001b[0;34m(\u001b[0m\u001b[0mfigsize\u001b[0m\u001b[0;34m=\u001b[0m\u001b[0;34m(\u001b[0m\u001b[0;36m14\u001b[0m\u001b[0;34m,\u001b[0m\u001b[0;36m12\u001b[0m\u001b[0;34m)\u001b[0m\u001b[0;34m)\u001b[0m\u001b[0;34m\u001b[0m\u001b[0m\n\u001b[0;32m----> 2\u001b[0;31m \u001b[0mdata\u001b[0m\u001b[0;34m[\u001b[0m\u001b[0;34m'Sex'\u001b[0m\u001b[0;34m]\u001b[0m \u001b[0;34m=\u001b[0m \u001b[0mdata\u001b[0m\u001b[0;34m[\u001b[0m\u001b[0;34m'Sex'\u001b[0m\u001b[0;34m]\u001b[0m\u001b[0;34m.\u001b[0m\u001b[0mapply\u001b[0m\u001b[0;34m(\u001b[0m\u001b[0;32mlambda\u001b[0m \u001b[0mx\u001b[0m\u001b[0;34m:\u001b[0m \u001b[0;36m1\u001b[0m \u001b[0;32mif\u001b[0m \u001b[0mx\u001b[0m \u001b[0;34m==\u001b[0m \u001b[0;34m'female'\u001b[0m \u001b[0;32melse\u001b[0m \u001b[0;36m0\u001b[0m\u001b[0;34m)\u001b[0m\u001b[0;34m\u001b[0m\u001b[0m\n\u001b[0m\u001b[1;32m      3\u001b[0m \u001b[0mcor_matrix\u001b[0m \u001b[0;34m=\u001b[0m \u001b[0mdata\u001b[0m\u001b[0;34m.\u001b[0m\u001b[0mdrop\u001b[0m\u001b[0;34m(\u001b[0m\u001b[0;34m'PassengerId'\u001b[0m\u001b[0;34m,\u001b[0m \u001b[0maxis\u001b[0m\u001b[0;34m=\u001b[0m\u001b[0;36m1\u001b[0m\u001b[0;34m)\u001b[0m\u001b[0;34m.\u001b[0m\u001b[0mcorr\u001b[0m\u001b[0;34m(\u001b[0m\u001b[0;34m)\u001b[0m\u001b[0;34m\u001b[0m\u001b[0m\n\u001b[1;32m      4\u001b[0m \u001b[0mprint\u001b[0m\u001b[0;34m(\u001b[0m\u001b[0mcor_matrix\u001b[0m\u001b[0;34m)\u001b[0m\u001b[0;34m\u001b[0m\u001b[0m\n\u001b[1;32m      5\u001b[0m \u001b[0msns\u001b[0m\u001b[0;34m.\u001b[0m\u001b[0mheatmap\u001b[0m\u001b[0;34m(\u001b[0m\u001b[0mcor_matrix\u001b[0m\u001b[0;34m,\u001b[0m \u001b[0mannot\u001b[0m\u001b[0;34m=\u001b[0m\u001b[0;32mTrue\u001b[0m\u001b[0;34m)\u001b[0m\u001b[0;34m\u001b[0m\u001b[0m\n",
      "\u001b[0;31mNameError\u001b[0m: name 'data' is not defined"
     ]
    },
    {
     "data": {
      "text/plain": [
       "<Figure size 1008x864 with 0 Axes>"
      ]
     },
     "metadata": {},
     "output_type": "display_data"
    }
   ],
   "source": [
    "plt.figure(figsize=(14,12))\n",
    "data['Sex'] = data['Sex'].apply(lambda x: 1 if x == 'female' else 0)\n",
    "cor_matrix = data.drop('PassengerId', axis=1).corr()\n",
    "print(cor_matrix)\n",
    "sns.heatmap(cor_matrix, annot=True)"
   ]
  },
  {
   "cell_type": "markdown",
   "metadata": {},
   "source": [
    "## Úloha 02: vytvořte bodový graf (scatter plot) pro všechny dvojice příznaků\n",
    "\n",
    "  - K vykreslení všech (smysluplných) dvojic příznaků použijte metodu sns.pairplot, podobným způsobem jako metodu níže."
   ]
  },
  {
   "cell_type": "code",
   "execution_count": null,
   "metadata": {},
   "outputs": [],
   "source": [
    "plt.figure(figsize=(12,4))\n",
    "sns.stripplot(x=\"Pclass\", y=\"Age\", hue=\"Survived\", data=data, palette= ['black','green']) # add jitter=True"
   ]
  },
  {
   "cell_type": "code",
   "execution_count": null,
   "metadata": {},
   "outputs": [],
   "source": [
    "### sem napište svůj kód"
   ]
  },
  {
   "cell_type": "markdown",
   "metadata": {},
   "source": [
    "## Stahování dat z webu pomocí Pythonu a pandas (1. úkol)\n",
    "          \n",
    "### Tipy:\n",
    "   - K získání HTML zdrojáku stránky s `url` použijte `import requests`: \n",
    "      - `r = requests.get(url)`\n",
    "      - `html = r.text`\n",
    "   - Metoda `pandas.read_html(r.text)` uloží všechny tabulky `<table>` jako seznam pandas DataFrames:\n",
    "      - `list_of_data_frames = pd.read_html(html,flavor='html5lib')`\n",
    "   - Pro HTML parsování lze použít `from bs4 import BeautifulSoup`."
   ]
  },
  {
   "cell_type": "code",
   "execution_count": 8,
   "metadata": {},
   "outputs": [],
   "source": [
    "import requests\n",
    "from bs4 import BeautifulSoup"
   ]
  },
  {
   "cell_type": "markdown",
   "metadata": {},
   "source": [
    "### Příklad jednoduchého stažení dat z webu pomocí POST formuláře.\n",
    "\n",
    "Úkolem je stáhnout všechna data z http://kap.ujak.cz/index.php a uložit je ve formátu pandas DataFrame."
   ]
  },
  {
   "cell_type": "code",
   "execution_count": 6,
   "metadata": {},
   "outputs": [
    {
     "name": "stdout",
     "output_type": "stream",
     "text": [
      "http://kap.ujak.cz/index.php?strana=30\n",
      "http://kap.ujak.cz/index.php?strana=60\n",
      "http://kap.ujak.cz/index.php?strana=90\n",
      "http://kap.ujak.cz/index.php?strana=120\n",
      "http://kap.ujak.cz/index.php?strana=150\n",
      "http://kap.ujak.cz/index.php?strana=180\n"
     ]
    }
   ],
   "source": [
    "# url s formulářem\n",
    "url = 'http://kap.ujak.cz/index.php?strana={}'\n",
    "# nastavení POST proměnných simulující odeslání formuláře\n",
    "data = {\n",
    "    'typ' : 'kap',\n",
    "    'prace' : 'BP', # DP = diplomka, DR = disertace, RI = rigorozní\n",
    "    'nazev' : '%%%', # alespoň tři písmena z názvu hledané práce\n",
    "    'pocet' : '0',\n",
    "    'klic' : '', # alespoň tři písmena z klíčových slov\n",
    "    'kl' : 'c', # c = částečně odpovídá, n = plně odpovídá\n",
    "    'hledat' : 'Vyhledat'\n",
    "}\n",
    "\n",
    "data_all = pd.DataFrame()\n",
    "for prace in ['BP', 'DP']:\n",
    "    data['prace'] = prace\n",
    "    r = requests.post(url, data)\n",
    "    r.encoding='cp1250'\n",
    "    ldf = pd.read_html(r.text,flavor='html5lib', header=0)\n",
    "    df = ldf[0]\n",
    "    strana = 30\n",
    "    if data_all.shape[0] == 0:\n",
    "        data_all = df.copy()\n",
    "    else:\n",
    "        data_all = pd.concat([data_all,df], ignore_index=True)\n",
    "    while df.shape[0] > 0:\n",
    "        if data_all.shape[0] > 200: # just to prevent from downloading all data\n",
    "            break\n",
    "        print(url.format(strana))\n",
    "        r = requests.post(url.format(strana), data)\n",
    "        r.encoding='cp1250'\n",
    "        ldf = pd.read_html(r.text,flavor='html5lib', header=0)\n",
    "        df = ldf[0]\n",
    "        strana = strana + 30\n",
    "        data_all = pd.concat([data_all,df], ignore_index=True)"
   ]
  },
  {
   "cell_type": "code",
   "execution_count": 7,
   "metadata": {},
   "outputs": [
    {
     "data": {
      "text/html": [
       "<div>\n",
       "<style scoped>\n",
       "    .dataframe tbody tr th:only-of-type {\n",
       "        vertical-align: middle;\n",
       "    }\n",
       "\n",
       "    .dataframe tbody tr th {\n",
       "        vertical-align: top;\n",
       "    }\n",
       "\n",
       "    .dataframe thead th {\n",
       "        text-align: right;\n",
       "    }\n",
       "</style>\n",
       "<table border=\"1\" class=\"dataframe\">\n",
       "  <thead>\n",
       "    <tr style=\"text-align: right;\">\n",
       "      <th></th>\n",
       "      <th>Autor</th>\n",
       "      <th>Název práce</th>\n",
       "      <th>Vedoucí</th>\n",
       "      <th>Rok</th>\n",
       "      <th>Typ práce</th>\n",
       "    </tr>\n",
       "  </thead>\n",
       "  <tbody>\n",
       "    <tr>\n",
       "      <th>0</th>\n",
       "      <td>Abdrakhmanova Aizhan</td>\n",
       "      <td>Vliv médií na děti a mládež v Kazachstánu</td>\n",
       "      <td>Svobodová Alena, Doc. PhDr.; CSc.</td>\n",
       "      <td>2017</td>\n",
       "      <td>BP</td>\n",
       "    </tr>\n",
       "    <tr>\n",
       "      <th>1</th>\n",
       "      <td>Abdullayev Timur</td>\n",
       "      <td>Inflation: Kazakhstani and global tendencies</td>\n",
       "      <td>Vacenovský Michal, Ing.; LL.M.</td>\n",
       "      <td>2011</td>\n",
       "      <td>BP</td>\n",
       "    </tr>\n",
       "    <tr>\n",
       "      <th>2</th>\n",
       "      <td>Abdussattarov Nursultan</td>\n",
       "      <td>Payment system od Kazakhstan: modern condition...</td>\n",
       "      <td>Vacenovský Michal, Ing.; LL.M.</td>\n",
       "      <td>2011</td>\n",
       "      <td>BP</td>\n",
       "    </tr>\n",
       "    <tr>\n",
       "      <th>3</th>\n",
       "      <td>Ábelová Šárka</td>\n",
       "      <td>Rovné příležitosti mužů a žen na trhu práce (Z...</td>\n",
       "      <td>Vacínová Marie, PhDr.; CSc.</td>\n",
       "      <td>2007</td>\n",
       "      <td>BP</td>\n",
       "    </tr>\n",
       "    <tr>\n",
       "      <th>4</th>\n",
       "      <td>Abrahámová Jaroslava</td>\n",
       "      <td>Nekalá soutěž v aplikační praxi soudů v ČR</td>\n",
       "      <td>Rákosník Jakub, Doc. PhDr. JUDr; Ph.D.</td>\n",
       "      <td>2008</td>\n",
       "      <td>BP</td>\n",
       "    </tr>\n",
       "  </tbody>\n",
       "</table>\n",
       "</div>"
      ],
      "text/plain": [
       "                     Autor                                        Název práce  \\\n",
       "0     Abdrakhmanova Aizhan          Vliv médií na děti a mládež v Kazachstánu   \n",
       "1         Abdullayev Timur       Inflation: Kazakhstani and global tendencies   \n",
       "2  Abdussattarov Nursultan  Payment system od Kazakhstan: modern condition...   \n",
       "3            Ábelová Šárka  Rovné příležitosti mužů a žen na trhu práce (Z...   \n",
       "4     Abrahámová Jaroslava         Nekalá soutěž v aplikační praxi soudů v ČR   \n",
       "\n",
       "                                  Vedoucí   Rok Typ práce  \n",
       "0       Svobodová Alena, Doc. PhDr.; CSc.  2017        BP  \n",
       "1          Vacenovský Michal, Ing.; LL.M.  2011        BP  \n",
       "2          Vacenovský Michal, Ing.; LL.M.  2011        BP  \n",
       "3             Vacínová Marie, PhDr.; CSc.  2007        BP  \n",
       "4  Rákosník Jakub, Doc. PhDr. JUDr; Ph.D.  2008        BP  "
      ]
     },
     "metadata": {},
     "output_type": "display_data"
    },
    {
     "data": {
      "text/plain": [
       "Název práce\n",
       "Mezilidské vztahy na pracovišti                                                         56\n",
       "Vliv rodiny na zdravý duševní vývoj dítěte                                              51\n",
       "Domácí násilí                                                                           33\n",
       "Specifické poruchy učení                                                                32\n",
       "Kvalita života seniorů                                                                  31\n",
       "Syndrom vyhoření                                                                        28\n",
       "Vzdělávání seniorů                                                                      28\n",
       "Systém vzdělávání a rozvoj lidských zdrojů v organizaci                                 27\n",
       "Vedení týmu                                                                             27\n",
       "Motivace, hodnocení a odměňování pracovníků v organizaci                                25\n",
       "Dieťa postihnuté autizmom - možnosti výchovy a vzdelávania                              24\n",
       "Psychologie reklamy                                                                     23\n",
       "Emoční inteligence a možnosti jejího rozvoje                                            21\n",
       "Motivace zaměstnanců jako nástroj dosažení cíle                                         20\n",
       "Motivace zaměstnanců                                                                    19\n",
       "Firemní vzdělávání                                                                      19\n",
       "Šikana na pracovišti                                                                    19\n",
       "Poruchy příjmu potravy                                                                  19\n",
       "Vliv patogenního rodinného prostředí na rozvoj osobnosti dítěte                         19\n",
       "Nezaměstnanost jako sociální problém                                                    18\n",
       "Syndrom vyhoření v pomáhajících profesích                                               18\n",
       "Vlastní téma                                                                            18\n",
       "Kriminalita mládeže                                                                     18\n",
       "Drogy a drogová závislosť u mládeže                                                     18\n",
       "Drogové závislosti u dospívajících                                                      16\n",
       "Agresivita jako psychologický problém osobnosti                                         16\n",
       "Získávání a výběr pracovníků v organizaci                                               16\n",
       "Firemní kultura                                                                         15\n",
       "Drogy a drogová závislost u mládeže                                                     15\n",
       "Logopedická péče o dítě s koktavostí                                                    15\n",
       "                                                                                        ..\n",
       "Sociální práce v penitenciárním prostředí                                                1\n",
       "Sociální práce ve středověku                                                             1\n",
       "Sociální práva - historický vývoj, základní dokumenty a jejich ochrana v současné EU     1\n",
       "Sociální péče o seniory v České republice                                                1\n",
       "Sociální práce s cizinci v Záchytném zařízení pro cizince Bělá-Jezová                    1\n",
       "Sociální práce na obecních úřadech od 1.1.2012                                           1\n",
       "Sociální patologie - prostituce                                                          1\n",
       "Sociální práce kurátora pro mládež u klientů s psychiatrickou diagnózou                  1\n",
       "Sociální patologie dnešní mládeže                                                        1\n",
       "Sociální patologie se zaměřením na prostituci                                            1\n",
       "Sociální percepce                                                                        1\n",
       "Sociální percepce ve vybraných personálních situacích                                    1\n",
       "Sociální podnikání v tržním hospodářství                                                 1\n",
       "Sociální pojištění samostatně výdělečně činné osoby                                      1\n",
       "Sociální politika a podniková sociální politika                                          1\n",
       "Sociální politika státu                                                                  1\n",
       "Sociální politika v České republice                                                      1\n",
       "Sociální pomoc v systému sociálního zabezpečení                                          1\n",
       "Sociální poruchy dospívájících dívek                                                     1\n",
       "Sociální pozice stáří v naší společnosti                                                 1\n",
       "Sociální pracovnice v systému zacházení s drogově závislými vězni                        1\n",
       "Sociální pracovník - Syndrom vyhoření a prevence proti němu                              1\n",
       "Sociální pracovník a syndrom vyhoření                                                    1\n",
       "Sociální pracovník v roli vedoucího týmu klíčových pracovníků v domově pro seniory       1\n",
       "Sociální prevence a neintencionální výchova mládeže v Šluknovském regionu                1\n",
       "Sociální profil pracovníků týmu a jejich rozvoj                                          1\n",
       "Sociální prostředí a jazyk                                                               1\n",
       "Sociální prostředí ve vztahu k dalšímu vzdělávání                                        1\n",
       "Sociální práce a úloha sociálního pracovníka v oblasti penitenciární péče                1\n",
       "\" Zpověď \" jako zdroj poznání životní pouti člověka                                      1\n",
       "Length: 26624, dtype: int64"
      ]
     },
     "execution_count": 7,
     "metadata": {},
     "output_type": "execute_result"
    }
   ],
   "source": [
    "dataUJAK = pd.read_csv('ujak.csv', index_col=0)\n",
    "display(dataUJAK.head())\n",
    "dataUJAK[dataUJAK['Rok'] > 2000].groupby(['Název práce']).size().sort_values(ascending=False)"
   ]
  },
  {
   "cell_type": "code",
   "execution_count": null,
   "metadata": {},
   "outputs": [],
   "source": []
  }
 ],
 "metadata": {
  "kernelspec": {
   "display_name": "Python 3",
   "language": "python",
   "name": "python3"
  },
  "language_info": {
   "codemirror_mode": {
    "name": "ipython",
    "version": 3
   },
   "file_extension": ".py",
   "mimetype": "text/x-python",
   "name": "python",
   "nbconvert_exporter": "python",
   "pygments_lexer": "ipython3",
   "version": "3.7.1"
  }
 },
 "nbformat": 4,
 "nbformat_minor": 2
}
