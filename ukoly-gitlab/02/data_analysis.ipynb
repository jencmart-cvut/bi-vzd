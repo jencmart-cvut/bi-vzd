{
 "cells": [
  {
   "cell_type": "markdown",
   "metadata": {},
   "source": [
    "# Úkol č. 2 - předzpracování dat a binární klasifikace (do 7. prosince)\n",
    "\n",
    "  * V rámci tohoto úkolu se musíte vypořádat s příznaky, které jsou různých typů.\n",
    "  * Před tím, než na nich postavíte predikční model, je třeba je nějakým způsobem převést do číselné reprezentace.\n",
    "    \n",
    "> **Úkoly jsou zadány tak, aby Vám daly prostor pro invenci. Vymyslet _jak přesně_ budete úkol řešit, je důležitou součástí zadání a originalita či nápaditost bude také hodnocena!**\n",
    "\n",
    "## Zdroj dat\n",
    "\n",
    "Budeme se zabývat predikcí přežití pasažérů Titaniku.\n",
    "K dispozici máte trénovací data v souboru **data.csv** a data na vyhodnocení v souboru **evaluation.csv**.\n",
    "\n",
    "#### Seznam příznaků:\n",
    "* survived - zda přežil, 0 = Ne, 1 = Ano, **vysvětlovaná proměnná**, kterou chcete predikovat\n",
    "* pclass - Třída lodního lístku, 1 = první, 2 = druhá, 3 = třetí\n",
    "* name - jméno\n",
    "* sex - pohlaví\n",
    "* age - věk v letech\n",
    "* sibsp\t- počet sourozenců / manželů, manželek na palubě\n",
    "* parch - počet rodičů / dětí na palubě\n",
    "* ticket - číslo lodního lístku\n",
    "* fare - cena lodního lístku\n",
    "* cabin\t- číslo kajuty\n",
    "* embarked\t- místo nalodění, C = Cherbourg, Q = Queenstown, S = Southampton\n",
    "* home.dest - Bydliště/Cíl\n",
    "\n",
    "## Pokyny k vypracování\n",
    "\n",
    "**Základní body zadání**, za jejichž (poctivé) vypracování získáte **8 bodů**:\n",
    "  * V Jupyter notebooku načtěte data ze souboru **data.csv**. Vhodným způsobem si je rozdělte na trénovací, testovací a případně i validační množinu.\n",
    "  * Projděte si jednotlivé příznaky a transformujte je do vhodné podoby pro použití ve vybraném klasifikačním modelu.\n",
    "  * Podle potřeby si můžete vytvářet nové příznaky (na základě existujících), například tedy můžete vytvořit příznak měřící délku jména. Některé příznaky můžete také úplně zahodit.\n",
    "  * Nějakým způsobem se vypořádejte s chybějícími hodnotami.\n",
    "  * Následně si vyberte vhodný klasifikační model z přednášek. Najděte vhodné hyperparametry a určete jeho přesnost (accuracy) na trénovací množině. Také určete jeho přesnost na testovací množině.\n",
    "  * Načtěte vyhodnocovací data ze souboru **evaluation.csv**. Napočítejte predikce pro tyto data (vysvětlovaná proměnná v nich již není). Vytvořte **results.csv** soubor, ve kterém tyto predikce uložíte do dvou sloupců: ID, predikce přežití. Tento soubor nahrajte do repozitáře.\n",
    "\n",
    "**Další body zadání** za případné další body  (můžete si vybrat, maximum bodů za úkol je každopádně 12 bodů):\n",
    "  * (až +4 body) Aplikujte všechny klasifikační modely z přednášek a určete (na základě přesnosti na validační množině), který je nejlepší. Přesnost tohoto nejlepšího modelu odhadněte pomocí testovací množiny. K predikcím na vyhodnocovacích datech využijte tento model.\n",
    "  * (až +4 body) Zkuste použít nějaké (alespoň dvě) netriviální metody doplňování chybějících hodnot u věku. Zaměřte na vliv těchto metod na přesnost predikce výsledného modelu. K predikcím na vyhodnocovacích datech využijte ten přístup, který Vám vyjde jako nejlepší.\n",
    "\n",
    "## Poznámky k odevzdání\n",
    "\n",
    "  * Řiďte se pokyny ze stránky https://courses.fit.cvut.cz/BI-VZD/homeworks/index.html.\n",
    "  * Odevzdejte nejen Jupyter Notebook, ale i _csv_ soubor(y) s predikcemi pro vyhodnocovací data.\n",
    "  * Opravující Vám může umožnit úkol dodělat či opravit a získat tak další body. První verze je ale důležitá a bude-li odbytá, budete za to penalizováni**"
   ]
  },
  {
   "cell_type": "markdown",
   "metadata": {},
   "source": [
    "# Odtud už je to Vaše"
   ]
  },
  {
   "cell_type": "code",
   "execution_count": 1,
   "metadata": {},
   "outputs": [],
   "source": [
    "import pandas as pd\n",
    "import numpy as np\n",
    "\n",
    "import matplotlib.pyplot as plt\n",
    "import matplotlib\n",
    "%matplotlib inline"
   ]
  },
  {
   "cell_type": "markdown",
   "metadata": {},
   "source": [
    "### Informace o datasetu\n",
    "* z nasledujich prikazu se dozvime nejake zakladni informace, mimo jine:\n",
    "    * vidime ze mame 1000 trenovacich dat\n",
    "    * 13 sloupecku - 1xID, 1xvysvetlovana promenna, 11xpriznak\n",
    "    * columns ktere nejsou numeric - name, sex, ticket, cabin, embarked, home.dest\n",
    "    * chybejici hodnoty - age(796), fare(999), cabin(229), embarked(999), home.dest(575)\n"
   ]
  },
  {
   "cell_type": "code",
   "execution_count": 2,
   "metadata": {},
   "outputs": [
    {
     "name": "stdout",
     "output_type": "stream",
     "text": [
      "<class 'pandas.core.frame.DataFrame'>\n",
      "RangeIndex: 1000 entries, 0 to 999\n",
      "Data columns (total 12 columns):\n",
      "survived     1000 non-null int64\n",
      "pclass       1000 non-null int64\n",
      "name         1000 non-null object\n",
      "sex          1000 non-null object\n",
      "age          796 non-null float64\n",
      "sibsp        1000 non-null int64\n",
      "parch        1000 non-null int64\n",
      "ticket       1000 non-null object\n",
      "fare         999 non-null float64\n",
      "cabin        229 non-null object\n",
      "embarked     999 non-null object\n",
      "home.dest    575 non-null object\n",
      "dtypes: float64(2), int64(4), object(6)\n",
      "memory usage: 93.8+ KB\n"
     ]
    }
   ],
   "source": [
    "df = pd.read_csv('data.csv')\n",
    "df = df.drop(columns=['ID'])\n",
    "\n",
    "df.head()\n",
    "df.shape\n",
    "df.describe()\n",
    "df.info()"
   ]
  },
  {
   "cell_type": "markdown",
   "metadata": {},
   "source": [
    "# Analyza dat"
   ]
  },
  {
   "cell_type": "markdown",
   "metadata": {},
   "source": [
    "## 1. **pclass**\n",
    "* kategorie (zalezi na poradi)\n",
    "* data nechybi\n",
    "* uz kodovani pro ordinalni kategorie -> netreba nic delat\n",
    "* **nemusime nic delat**"
   ]
  },
  {
   "cell_type": "code",
   "execution_count": 3,
   "metadata": {},
   "outputs": [
    {
     "data": {
      "text/html": [
       "<div>\n",
       "<style scoped>\n",
       "    .dataframe tbody tr th:only-of-type {\n",
       "        vertical-align: middle;\n",
       "    }\n",
       "\n",
       "    .dataframe tbody tr th {\n",
       "        vertical-align: top;\n",
       "    }\n",
       "\n",
       "    .dataframe thead th {\n",
       "        text-align: right;\n",
       "    }\n",
       "</style>\n",
       "<table border=\"1\" class=\"dataframe\">\n",
       "  <thead>\n",
       "    <tr style=\"text-align: right;\">\n",
       "      <th></th>\n",
       "      <th>survived</th>\n",
       "      <th>pclass</th>\n",
       "      <th>name</th>\n",
       "      <th>sex</th>\n",
       "      <th>age</th>\n",
       "      <th>sibsp</th>\n",
       "      <th>parch</th>\n",
       "      <th>ticket</th>\n",
       "      <th>fare</th>\n",
       "      <th>cabin</th>\n",
       "      <th>embarked</th>\n",
       "      <th>home.dest</th>\n",
       "    </tr>\n",
       "  </thead>\n",
       "  <tbody>\n",
       "    <tr>\n",
       "      <th>0</th>\n",
       "      <td>0</td>\n",
       "      <td>0</td>\n",
       "      <td>McCarthy, Mr. Timothy J</td>\n",
       "      <td>male</td>\n",
       "      <td>54.0</td>\n",
       "      <td>0</td>\n",
       "      <td>0</td>\n",
       "      <td>17463</td>\n",
       "      <td>51.8625</td>\n",
       "      <td>E46</td>\n",
       "      <td>S</td>\n",
       "      <td>Dorchester, MA</td>\n",
       "    </tr>\n",
       "    <tr>\n",
       "      <th>1</th>\n",
       "      <td>0</td>\n",
       "      <td>0</td>\n",
       "      <td>Fortune, Mr. Mark</td>\n",
       "      <td>male</td>\n",
       "      <td>64.0</td>\n",
       "      <td>1</td>\n",
       "      <td>4</td>\n",
       "      <td>19950</td>\n",
       "      <td>263.0000</td>\n",
       "      <td>C23 C25 C27</td>\n",
       "      <td>S</td>\n",
       "      <td>Winnipeg, MB</td>\n",
       "    </tr>\n",
       "    <tr>\n",
       "      <th>2</th>\n",
       "      <td>1</td>\n",
       "      <td>0</td>\n",
       "      <td>Sagesser, Mlle. Emma</td>\n",
       "      <td>female</td>\n",
       "      <td>24.0</td>\n",
       "      <td>0</td>\n",
       "      <td>0</td>\n",
       "      <td>PC 17477</td>\n",
       "      <td>69.3000</td>\n",
       "      <td>B35</td>\n",
       "      <td>C</td>\n",
       "      <td>NaN</td>\n",
       "    </tr>\n",
       "    <tr>\n",
       "      <th>3</th>\n",
       "      <td>0</td>\n",
       "      <td>2</td>\n",
       "      <td>Panula, Master. Urho Abraham</td>\n",
       "      <td>male</td>\n",
       "      <td>2.0</td>\n",
       "      <td>4</td>\n",
       "      <td>1</td>\n",
       "      <td>3101295</td>\n",
       "      <td>39.6875</td>\n",
       "      <td>NaN</td>\n",
       "      <td>S</td>\n",
       "      <td>NaN</td>\n",
       "    </tr>\n",
       "    <tr>\n",
       "      <th>4</th>\n",
       "      <td>1</td>\n",
       "      <td>0</td>\n",
       "      <td>Maioni, Miss. Roberta</td>\n",
       "      <td>female</td>\n",
       "      <td>16.0</td>\n",
       "      <td>0</td>\n",
       "      <td>0</td>\n",
       "      <td>110152</td>\n",
       "      <td>86.5000</td>\n",
       "      <td>B79</td>\n",
       "      <td>S</td>\n",
       "      <td>NaN</td>\n",
       "    </tr>\n",
       "  </tbody>\n",
       "</table>\n",
       "</div>"
      ],
      "text/plain": [
       "   survived  pclass                          name     sex   age  sibsp  parch  \\\n",
       "0         0       0       McCarthy, Mr. Timothy J    male  54.0      0      0   \n",
       "1         0       0             Fortune, Mr. Mark    male  64.0      1      4   \n",
       "2         1       0          Sagesser, Mlle. Emma  female  24.0      0      0   \n",
       "3         0       2  Panula, Master. Urho Abraham    male   2.0      4      1   \n",
       "4         1       0         Maioni, Miss. Roberta  female  16.0      0      0   \n",
       "\n",
       "     ticket      fare        cabin embarked       home.dest  \n",
       "0     17463   51.8625          E46        S  Dorchester, MA  \n",
       "1     19950  263.0000  C23 C25 C27        S    Winnipeg, MB  \n",
       "2  PC 17477   69.3000          B35        C             NaN  \n",
       "3   3101295   39.6875          NaN        S             NaN  \n",
       "4    110152   86.5000          B79        S             NaN  "
      ]
     },
     "execution_count": 3,
     "metadata": {},
     "output_type": "execute_result"
    }
   ],
   "source": [
    "# pozn. toto je zbytecne, nevim ani proc to delam...\n",
    "from sklearn.preprocessing import LabelEncoder\n",
    "le = LabelEncoder()\n",
    "df.pclass = le.fit_transform(df.pclass)\n",
    "df.head()"
   ]
  },
  {
   "cell_type": "markdown",
   "metadata": {},
   "source": [
    "## 2. **name**\n",
    "* string\n",
    "* nevim jestli je vubec k necemu dobre\n",
    "* mozna by z toho sly vytezit nake tituly nebo neco jestli tam jsou\n",
    "* data nechybi\n",
    "* **potreba vice prozkoumat** "
   ]
  },
  {
   "cell_type": "code",
   "execution_count": 4,
   "metadata": {},
   "outputs": [
    {
     "data": {
      "text/plain": [
       "998"
      ]
     },
     "execution_count": 4,
     "metadata": {},
     "output_type": "execute_result"
    }
   ],
   "source": [
    "# dve jmena jsou duplikovana, jedna se ale pouze o shodu jmen -> neresime\n",
    "df.name.nunique()\n",
    "# Connolly, Miss. Kate\n",
    "# Kelly, Mr. James"
   ]
  },
  {
   "cell_type": "markdown",
   "metadata": {},
   "source": [
    "* Vytezime tituly nake inzenyry doktory apod. ...???"
   ]
  },
  {
   "cell_type": "code",
   "execution_count": 5,
   "metadata": {},
   "outputs": [
    {
     "data": {
      "text/html": [
       "<div>\n",
       "<style scoped>\n",
       "    .dataframe tbody tr th:only-of-type {\n",
       "        vertical-align: middle;\n",
       "    }\n",
       "\n",
       "    .dataframe tbody tr th {\n",
       "        vertical-align: top;\n",
       "    }\n",
       "\n",
       "    .dataframe thead th {\n",
       "        text-align: right;\n",
       "    }\n",
       "</style>\n",
       "<table border=\"1\" class=\"dataframe\">\n",
       "  <thead>\n",
       "    <tr style=\"text-align: right;\">\n",
       "      <th></th>\n",
       "      <th>survived</th>\n",
       "      <th>pclass</th>\n",
       "      <th>name</th>\n",
       "      <th>sex</th>\n",
       "      <th>age</th>\n",
       "      <th>sibsp</th>\n",
       "      <th>parch</th>\n",
       "      <th>ticket</th>\n",
       "      <th>fare</th>\n",
       "      <th>cabin</th>\n",
       "      <th>embarked</th>\n",
       "      <th>home.dest</th>\n",
       "    </tr>\n",
       "  </thead>\n",
       "  <tbody>\n",
       "    <tr>\n",
       "      <th>39</th>\n",
       "      <td>1</td>\n",
       "      <td>0</td>\n",
       "      <td>Frauenthal, Dr. Henry William</td>\n",
       "      <td>male</td>\n",
       "      <td>50.0</td>\n",
       "      <td>2</td>\n",
       "      <td>0</td>\n",
       "      <td>PC 17611</td>\n",
       "      <td>133.6500</td>\n",
       "      <td>NaN</td>\n",
       "      <td>S</td>\n",
       "      <td>New York, NY</td>\n",
       "    </tr>\n",
       "    <tr>\n",
       "      <th>100</th>\n",
       "      <td>0</td>\n",
       "      <td>1</td>\n",
       "      <td>Pain, Dr. Alfred</td>\n",
       "      <td>male</td>\n",
       "      <td>23.0</td>\n",
       "      <td>0</td>\n",
       "      <td>0</td>\n",
       "      <td>244278</td>\n",
       "      <td>10.5000</td>\n",
       "      <td>NaN</td>\n",
       "      <td>S</td>\n",
       "      <td>Hamilton, ON</td>\n",
       "    </tr>\n",
       "    <tr>\n",
       "      <th>104</th>\n",
       "      <td>1</td>\n",
       "      <td>0</td>\n",
       "      <td>Leader, Dr. Alice (Farnham)</td>\n",
       "      <td>female</td>\n",
       "      <td>49.0</td>\n",
       "      <td>0</td>\n",
       "      <td>0</td>\n",
       "      <td>17465</td>\n",
       "      <td>25.9292</td>\n",
       "      <td>D17</td>\n",
       "      <td>S</td>\n",
       "      <td>New York, NY</td>\n",
       "    </tr>\n",
       "    <tr>\n",
       "      <th>636</th>\n",
       "      <td>0</td>\n",
       "      <td>0</td>\n",
       "      <td>Brewe, Dr. Arthur Jackson</td>\n",
       "      <td>male</td>\n",
       "      <td>NaN</td>\n",
       "      <td>0</td>\n",
       "      <td>0</td>\n",
       "      <td>112379</td>\n",
       "      <td>39.6000</td>\n",
       "      <td>NaN</td>\n",
       "      <td>C</td>\n",
       "      <td>Philadelphia, PA</td>\n",
       "    </tr>\n",
       "  </tbody>\n",
       "</table>\n",
       "</div>"
      ],
      "text/plain": [
       "     survived  pclass                           name     sex   age  sibsp  \\\n",
       "39          1       0  Frauenthal, Dr. Henry William    male  50.0      2   \n",
       "100         0       1               Pain, Dr. Alfred    male  23.0      0   \n",
       "104         1       0    Leader, Dr. Alice (Farnham)  female  49.0      0   \n",
       "636         0       0      Brewe, Dr. Arthur Jackson    male   NaN      0   \n",
       "\n",
       "     parch    ticket      fare cabin embarked         home.dest  \n",
       "39       0  PC 17611  133.6500   NaN        S      New York, NY  \n",
       "100      0    244278   10.5000   NaN        S      Hamilton, ON  \n",
       "104      0     17465   25.9292   D17        S      New York, NY  \n",
       "636      0    112379   39.6000   NaN        C  Philadelphia, PA  "
      ]
     },
     "execution_count": 5,
     "metadata": {},
     "output_type": "execute_result"
    }
   ],
   "source": [
    "# toto 0x , seriously?\n",
    "df.loc[df.name.str.contains('Ing\\.')].name.count()\n",
    "df.loc[df.name.str.contains('Bc\\.')].name.count()\n",
    "df.loc[df.name.str.contains('Doc\\.')].name.count()\n",
    "df.loc[df.name.str.contains('MA')].name.count()\n",
    "df.loc[df.name.str.contains('BA')].name.count()\n",
    "df.loc[df.name.str.contains('BS')].name.count()\n",
    "df.loc[df.name.str.contains('M\\.H\\.')].name.count()\n",
    "df.loc[df.name.str.contains('B\\.A\\.')].name.count()\n",
    "df.loc[df.name.str.contains('MAS')].name.count()\n",
    "df.loc[df.name.str.contains('B\\.')].name.count()\n",
    "df.loc[df.name.str.contains('LLM')].name.count()\n",
    "df.loc[df.name.str.contains('MSC')].name.count()\n",
    "df.loc[df.name.str.contains('BLitt')].name.count()\n",
    "df.loc[df.name.str.contains('BPhill')].name.count()\n",
    "\n",
    "# doktor 4x\n",
    "df.loc[df.name.str.contains('Dr\\.')]"
   ]
  },
  {
   "cell_type": "markdown",
   "metadata": {},
   "source": [
    "* To se moc nepodarilo...\n",
    "* Ale vsimnul jsem si tam aspon titulu Mr.\n",
    "* Tak zkusim zjistit co maji muzi za dalsi tituly nez Mr. ..."
   ]
  },
  {
   "cell_type": "code",
   "execution_count": 6,
   "metadata": {},
   "outputs": [
    {
     "data": {
      "text/plain": [
       "3"
      ]
     },
     "execution_count": 6,
     "metadata": {},
     "output_type": "execute_result"
    }
   ],
   "source": [
    "#################\n",
    "# MUZSKE TITULY #\n",
    "#################\n",
    "\n",
    "# ...Hmmm... vsimnul jsem si ze tam je aspon titul Mr. ...\n",
    "\n",
    "# ... Mr. je tam 573x \n",
    "df.loc[df.name.str.contains('Mr\\.')].name.count()\n",
    "df.loc[df.name.str.contains('Mr\\.')].name.count()\n",
    "\n",
    "# ... Ale muzu 635 ... \n",
    "df.loc[df.sex == 'male'].name.count()\n",
    "\n",
    "# ... tak kde je problem ?\n",
    "df.loc[ df.sex == 'male'].loc[df.name.str.contains('^(?!.*Mr\\.).*$')]\n",
    "\n",
    "# ok vidim titul master .. 46x\n",
    "df.loc[ df.sex == 'male'].loc[df.name.str.contains('Master\\.')].name.count()\n",
    "\n",
    "#  635 - (573 + 46) = 16 muzu stale chybi. Nemaji zadny titul ?\n",
    "df.loc[ df.sex == 'male'].loc[df.name.str.contains('^(?!.*Mr\\.).*$')].loc[df.name.str.contains('^(?!.*Master\\.).*$')]\n",
    "\n",
    "# ok vidim tituly Capt. Rev. Major. Col. Don. Jonkheer. Dr.\n",
    "# 1x\n",
    "df.loc[ df.sex == 'male'].loc[df.name.str.contains('Capt\\.')].name.count()\n",
    "# 4x\n",
    "df.loc[ df.sex == 'male'].loc[df.name.str.contains('Rev\\.')].name.count()\n",
    "# 2x\n",
    "df.loc[ df.sex == 'male'].loc[df.name.str.contains('Major\\.')].name.count()\n",
    "# 4x\n",
    "df.loc[ df.sex == 'male'].loc[df.name.str.contains('Col\\.')].name.count()\n",
    "# 1x\n",
    "df.loc[ df.sex == 'male'].loc[df.name.str.contains('Don\\.')].name.count()\n",
    "# 1x\n",
    "df.loc[ df.sex == 'male'].loc[df.name.str.contains('Jonkheer\\.')].name.count()\n",
    "# 3x\n",
    "df.loc[ df.sex == 'male'].loc[df.name.str.contains('Dr\\.')].name.count()\n",
    "\n",
    "# 573(Mr.) + 46(Master.) + 1(Capt.) + 4(Rev.) + 2(Major.) + 4(Col.) + 1(Don.) + 1(Jonkheer.) + 3(Dr.) = 635 \n",
    "# == cnt muzu"
   ]
  },
  {
   "cell_type": "markdown",
   "metadata": {},
   "source": [
    "* No aspon neco\n",
    "* Udelam to same pro zenske tituly"
   ]
  },
  {
   "cell_type": "code",
   "execution_count": 7,
   "metadata": {},
   "outputs": [
    {
     "data": {
      "text/html": [
       "<div>\n",
       "<style scoped>\n",
       "    .dataframe tbody tr th:only-of-type {\n",
       "        vertical-align: middle;\n",
       "    }\n",
       "\n",
       "    .dataframe tbody tr th {\n",
       "        vertical-align: top;\n",
       "    }\n",
       "\n",
       "    .dataframe thead th {\n",
       "        text-align: right;\n",
       "    }\n",
       "</style>\n",
       "<table border=\"1\" class=\"dataframe\">\n",
       "  <thead>\n",
       "    <tr style=\"text-align: right;\">\n",
       "      <th></th>\n",
       "      <th>survived</th>\n",
       "      <th>pclass</th>\n",
       "      <th>name</th>\n",
       "      <th>sex</th>\n",
       "      <th>age</th>\n",
       "      <th>sibsp</th>\n",
       "      <th>parch</th>\n",
       "      <th>ticket</th>\n",
       "      <th>fare</th>\n",
       "      <th>cabin</th>\n",
       "      <th>embarked</th>\n",
       "      <th>home.dest</th>\n",
       "    </tr>\n",
       "  </thead>\n",
       "  <tbody>\n",
       "    <tr>\n",
       "      <th>104</th>\n",
       "      <td>1</td>\n",
       "      <td>0</td>\n",
       "      <td>Leader, Dr. Alice (Farnham)</td>\n",
       "      <td>female</td>\n",
       "      <td>49.0</td>\n",
       "      <td>0</td>\n",
       "      <td>0</td>\n",
       "      <td>17465</td>\n",
       "      <td>25.9292</td>\n",
       "      <td>D17</td>\n",
       "      <td>S</td>\n",
       "      <td>New York, NY</td>\n",
       "    </tr>\n",
       "    <tr>\n",
       "      <th>119</th>\n",
       "      <td>1</td>\n",
       "      <td>0</td>\n",
       "      <td>Aubart, Mme. Leontine Pauline</td>\n",
       "      <td>female</td>\n",
       "      <td>24.0</td>\n",
       "      <td>0</td>\n",
       "      <td>0</td>\n",
       "      <td>PC 17477</td>\n",
       "      <td>69.3000</td>\n",
       "      <td>B35</td>\n",
       "      <td>C</td>\n",
       "      <td>Paris, France</td>\n",
       "    </tr>\n",
       "    <tr>\n",
       "      <th>280</th>\n",
       "      <td>1</td>\n",
       "      <td>0</td>\n",
       "      <td>Duff Gordon, Lady. (Lucille Christiana Sutherl...</td>\n",
       "      <td>female</td>\n",
       "      <td>48.0</td>\n",
       "      <td>1</td>\n",
       "      <td>0</td>\n",
       "      <td>11755</td>\n",
       "      <td>39.6000</td>\n",
       "      <td>A16</td>\n",
       "      <td>C</td>\n",
       "      <td>London / Paris</td>\n",
       "    </tr>\n",
       "    <tr>\n",
       "      <th>627</th>\n",
       "      <td>1</td>\n",
       "      <td>0</td>\n",
       "      <td>Oliva y Ocana, Dona. Fermina</td>\n",
       "      <td>female</td>\n",
       "      <td>39.0</td>\n",
       "      <td>0</td>\n",
       "      <td>0</td>\n",
       "      <td>PC 17758</td>\n",
       "      <td>108.9000</td>\n",
       "      <td>C105</td>\n",
       "      <td>C</td>\n",
       "      <td>NaN</td>\n",
       "    </tr>\n",
       "    <tr>\n",
       "      <th>690</th>\n",
       "      <td>1</td>\n",
       "      <td>0</td>\n",
       "      <td>Rothes, the Countess. of (Lucy Noel Martha Dye...</td>\n",
       "      <td>female</td>\n",
       "      <td>33.0</td>\n",
       "      <td>0</td>\n",
       "      <td>0</td>\n",
       "      <td>110152</td>\n",
       "      <td>86.5000</td>\n",
       "      <td>B77</td>\n",
       "      <td>S</td>\n",
       "      <td>London  Vancouver, BC</td>\n",
       "    </tr>\n",
       "  </tbody>\n",
       "</table>\n",
       "</div>"
      ],
      "text/plain": [
       "     survived  pclass                                               name  \\\n",
       "104         1       0                        Leader, Dr. Alice (Farnham)   \n",
       "119         1       0                      Aubart, Mme. Leontine Pauline   \n",
       "280         1       0  Duff Gordon, Lady. (Lucille Christiana Sutherl...   \n",
       "627         1       0                       Oliva y Ocana, Dona. Fermina   \n",
       "690         1       0  Rothes, the Countess. of (Lucy Noel Martha Dye...   \n",
       "\n",
       "        sex   age  sibsp  parch    ticket      fare cabin embarked  \\\n",
       "104  female  49.0      0      0     17465   25.9292   D17        S   \n",
       "119  female  24.0      0      0  PC 17477   69.3000   B35        C   \n",
       "280  female  48.0      1      0     11755   39.6000   A16        C   \n",
       "627  female  39.0      0      0  PC 17758  108.9000  C105        C   \n",
       "690  female  33.0      0      0    110152   86.5000   B77        S   \n",
       "\n",
       "                 home.dest  \n",
       "104           New York, NY  \n",
       "119          Paris, France  \n",
       "280         London / Paris  \n",
       "627                    NaN  \n",
       "690  London  Vancouver, BC  "
      ]
     },
     "execution_count": 7,
     "metadata": {},
     "output_type": "execute_result"
    }
   ],
   "source": [
    "#################\n",
    "# ZENSKE TITULY #\n",
    "#################\n",
    "\n",
    "# ted uz vime jak na to\n",
    "\n",
    "# 365 zen\n",
    "df.loc[df.sex == 'female'].name.count()\n",
    "\n",
    "# vidime tam Mlle. Miss. Mrs. Ms.\n",
    "df.loc[df.sex == 'female'].name.head()\n",
    "\n",
    "# 1x\n",
    "df.loc[ df.sex == 'female'].loc[df.name.str.contains('Mlle\\.')].name.count()\n",
    "\n",
    "# 202x\n",
    "df.loc[ df.sex == 'female'].loc[df.name.str.contains('Miss\\.')].name.count()\n",
    "\n",
    "# 155x\n",
    "df.loc[ df.sex == 'female'].loc[df.name.str.contains('Mrs\\.')].name.count()\n",
    "\n",
    "# 2x\n",
    "df.loc[ df.sex == 'female'].loc[df.name.str.contains('Ms\\.')].name.count()\n",
    "\n",
    "# 364 - 360  = 5 jeste chybi\n",
    "df.loc[ df.sex == 'female'].loc[df.name.str.contains('^(?!.*Mlle\\.).*$')].loc[df.name.str.contains('^(?!.*Miss\\.).*$')].loc[df.name.str.contains('^(?!.*Mrs\\.).*$')].loc[df.name.str.contains('^(?!.*Ms\\.).*$')]\n",
    "\n",
    "# vidim 1xDr., 1xMme., 1x Lady., 1xDona, 1xCountess.\n",
    "\n",
    "# 1(Mlle.) + 202(Miss.) + 155(Mrs.) + 2(Ms.) + 1(Dr.) + 1(Mme.) + 1(Lady.) + 1(Dona.) + 1(Countess) = 365\n",
    "# == cnt zen"
   ]
  },
  {
   "cell_type": "markdown",
   "metadata": {},
   "source": [
    "* **Po chvili cteni o techto titulech na wikipedii jsem zjsitil ze spadaji ro ruznych \"kategorii\"**\n",
    "\n",
    "* **Honorific**\n",
    "    * Mr.\n",
    "    * Master. (jako Mr. jen pro mlade kluky)\n",
    "    * Ms. \n",
    "    * Miss. / Mlle. (ve Francii)\n",
    "    * Mrs. / Mme. (ve Francii)\n",
    "    \n",
    "* **Nobles**\n",
    "    * Countess. (4)\n",
    "    * Lady. (3)\n",
    "    * Don. / Dona. (2)\n",
    "    * Jonkheer. (1)\n",
    "* **Military**\n",
    "    * Col. (3)\n",
    "    * Major. (2)\n",
    "    * Capt. (1)\n",
    "    \n",
    "* **Religious**\n",
    "    * Rev.\n",
    "* **Akademicke**\n",
    "    * Dr.\n",
    "    \n",
    "    \n",
    "* Tituly v kategoriich Nobles & Military maji hierarchii **ordinalni**\n",
    "* U ostatnich uz moc hierarchie nevidim -> dohromady **nominalni**\n",
    "\n",
    "\n",
    "*pozn. hierarchii maji i akademicke a nabozenske, ale jsou ty vzdy jen 1x takze to nema smysl je tak kodovat...*\n",
    "\n",
    "\n",
    "*pozn. pozn. mel bych se na ne spis uplne vykaslat, kdyz jich je tak malo, ale nechce se mi :-D*    "
   ]
  },
  {
   "cell_type": "code",
   "execution_count": 8,
   "metadata": {},
   "outputs": [],
   "source": [
    "# nyni pridame zminene sloupecky\n",
    "\n",
    "import warnings\n",
    "warnings.filterwarnings('ignore') # haha. I figured out solution for all warings.\n",
    "\n",
    "# nejdrive pro nobles\n",
    "df['noble'] = 0\n",
    "df['noble'][df.name.str.contains('Countess\\.')] = 4\n",
    "df['noble'][df.name.str.contains('Lady\\.')] = 3\n",
    "df['noble'][df.name.str.contains('Don\\.')] = 2\n",
    "df['noble'][df.name.str.contains('Dona\\.')] = 2\n",
    "df['noble'][df.name.str.contains('Jonkheer\\.')] = 1\n",
    "df.loc[df.noble > 0].head(20)\n",
    "\n",
    "# pak pro military\n",
    "df['military'] = 0\n",
    "df['military'][df.name.str.contains('Col\\.')] = 3\n",
    "df['military'][df.name.str.contains('Major\\.')] = 2\n",
    "df['military'][df.name.str.contains('Capt\\.')] = 1\n",
    "\n",
    "# nakonec pro ostatni tituly\n",
    "df['honorific'] = np.NaN\n",
    "df['honorific'][df.name.str.contains('Mr\\.')] = 'Mr'\n",
    "df['honorific'][df.name.str.contains('Master\\.')] = 'Master'\n",
    "df['honorific'][df.name.str.contains('Ms\\.')] = 'Ms'\n",
    "df['honorific'][df.name.str.contains('Miss\\.')] = 'Miss'\n",
    "df['honorific'][df.name.str.contains('Mlle\\.')] = 'Miss'\n",
    "df['honorific'][df.name.str.contains('Mrs\\.')] = 'Mrs'\n",
    "df['honorific'][df.name.str.contains('Mme\\.')] = 'Mrs'\n",
    "df['honorific'][df.name.str.contains('Rev\\.')] = 'Rev'\n",
    "df['honorific'][df.name.str.contains('Dr\\.')] = 'Dr'"
   ]
  },
  {
   "cell_type": "code",
   "execution_count": 9,
   "metadata": {},
   "outputs": [],
   "source": [
    "# tyto honorific chceme jeste onehot encodovat\n",
    "honors_onehot = pd.get_dummies(df['honorific'],prefix='h')\n",
    "df = pd.concat([df.drop(columns=['honorific']), honors_onehot], axis=1)"
   ]
  },
  {
   "cell_type": "markdown",
   "metadata": {},
   "source": [
    "* Jinak v samotnych jmenech nevidim zadny smsl, takze je dropnu\n",
    "\n",
    "\n",
    "*pozn.Teoreticky bych mohl jeste vytezit prijmeni a kategorizovat \"rodiny\". Ale myslim ze by to ztroskotalo na shode jmen.*"
   ]
  },
  {
   "cell_type": "code",
   "execution_count": 10,
   "metadata": {},
   "outputs": [],
   "source": [
    "df = df.drop(columns=['name'])"
   ]
  },
  {
   "cell_type": "markdown",
   "metadata": {},
   "source": [
    "## 3. sex\n",
    "* **nominalni kategorie**\n",
    "* data nechybi\n",
    "* musime jen zakodovat -> OneHot (ale v tomto pripade ekvivalenti s LabelEncoding)"
   ]
  },
  {
   "cell_type": "code",
   "execution_count": 11,
   "metadata": {},
   "outputs": [
    {
     "data": {
      "text/html": [
       "<div>\n",
       "<style scoped>\n",
       "    .dataframe tbody tr th:only-of-type {\n",
       "        vertical-align: middle;\n",
       "    }\n",
       "\n",
       "    .dataframe tbody tr th {\n",
       "        vertical-align: top;\n",
       "    }\n",
       "\n",
       "    .dataframe thead th {\n",
       "        text-align: right;\n",
       "    }\n",
       "</style>\n",
       "<table border=\"1\" class=\"dataframe\">\n",
       "  <thead>\n",
       "    <tr style=\"text-align: right;\">\n",
       "      <th></th>\n",
       "      <th>survived</th>\n",
       "      <th>pclass</th>\n",
       "      <th>sex</th>\n",
       "      <th>age</th>\n",
       "      <th>sibsp</th>\n",
       "      <th>parch</th>\n",
       "      <th>ticket</th>\n",
       "      <th>fare</th>\n",
       "      <th>cabin</th>\n",
       "      <th>embarked</th>\n",
       "      <th>home.dest</th>\n",
       "      <th>noble</th>\n",
       "      <th>military</th>\n",
       "      <th>h_Dr</th>\n",
       "      <th>h_Master</th>\n",
       "      <th>h_Miss</th>\n",
       "      <th>h_Mr</th>\n",
       "      <th>h_Mrs</th>\n",
       "      <th>h_Ms</th>\n",
       "      <th>h_Rev</th>\n",
       "    </tr>\n",
       "  </thead>\n",
       "  <tbody>\n",
       "    <tr>\n",
       "      <th>0</th>\n",
       "      <td>0</td>\n",
       "      <td>0</td>\n",
       "      <td>1</td>\n",
       "      <td>54.0</td>\n",
       "      <td>0</td>\n",
       "      <td>0</td>\n",
       "      <td>17463</td>\n",
       "      <td>51.8625</td>\n",
       "      <td>E46</td>\n",
       "      <td>S</td>\n",
       "      <td>Dorchester, MA</td>\n",
       "      <td>0</td>\n",
       "      <td>0</td>\n",
       "      <td>0</td>\n",
       "      <td>0</td>\n",
       "      <td>0</td>\n",
       "      <td>1</td>\n",
       "      <td>0</td>\n",
       "      <td>0</td>\n",
       "      <td>0</td>\n",
       "    </tr>\n",
       "    <tr>\n",
       "      <th>1</th>\n",
       "      <td>0</td>\n",
       "      <td>0</td>\n",
       "      <td>1</td>\n",
       "      <td>64.0</td>\n",
       "      <td>1</td>\n",
       "      <td>4</td>\n",
       "      <td>19950</td>\n",
       "      <td>263.0000</td>\n",
       "      <td>C23 C25 C27</td>\n",
       "      <td>S</td>\n",
       "      <td>Winnipeg, MB</td>\n",
       "      <td>0</td>\n",
       "      <td>0</td>\n",
       "      <td>0</td>\n",
       "      <td>0</td>\n",
       "      <td>0</td>\n",
       "      <td>1</td>\n",
       "      <td>0</td>\n",
       "      <td>0</td>\n",
       "      <td>0</td>\n",
       "    </tr>\n",
       "    <tr>\n",
       "      <th>2</th>\n",
       "      <td>1</td>\n",
       "      <td>0</td>\n",
       "      <td>0</td>\n",
       "      <td>24.0</td>\n",
       "      <td>0</td>\n",
       "      <td>0</td>\n",
       "      <td>PC 17477</td>\n",
       "      <td>69.3000</td>\n",
       "      <td>B35</td>\n",
       "      <td>C</td>\n",
       "      <td>NaN</td>\n",
       "      <td>0</td>\n",
       "      <td>0</td>\n",
       "      <td>0</td>\n",
       "      <td>0</td>\n",
       "      <td>1</td>\n",
       "      <td>0</td>\n",
       "      <td>0</td>\n",
       "      <td>0</td>\n",
       "      <td>0</td>\n",
       "    </tr>\n",
       "    <tr>\n",
       "      <th>3</th>\n",
       "      <td>0</td>\n",
       "      <td>2</td>\n",
       "      <td>1</td>\n",
       "      <td>2.0</td>\n",
       "      <td>4</td>\n",
       "      <td>1</td>\n",
       "      <td>3101295</td>\n",
       "      <td>39.6875</td>\n",
       "      <td>NaN</td>\n",
       "      <td>S</td>\n",
       "      <td>NaN</td>\n",
       "      <td>0</td>\n",
       "      <td>0</td>\n",
       "      <td>0</td>\n",
       "      <td>1</td>\n",
       "      <td>0</td>\n",
       "      <td>0</td>\n",
       "      <td>0</td>\n",
       "      <td>0</td>\n",
       "      <td>0</td>\n",
       "    </tr>\n",
       "    <tr>\n",
       "      <th>4</th>\n",
       "      <td>1</td>\n",
       "      <td>0</td>\n",
       "      <td>0</td>\n",
       "      <td>16.0</td>\n",
       "      <td>0</td>\n",
       "      <td>0</td>\n",
       "      <td>110152</td>\n",
       "      <td>86.5000</td>\n",
       "      <td>B79</td>\n",
       "      <td>S</td>\n",
       "      <td>NaN</td>\n",
       "      <td>0</td>\n",
       "      <td>0</td>\n",
       "      <td>0</td>\n",
       "      <td>0</td>\n",
       "      <td>1</td>\n",
       "      <td>0</td>\n",
       "      <td>0</td>\n",
       "      <td>0</td>\n",
       "      <td>0</td>\n",
       "    </tr>\n",
       "  </tbody>\n",
       "</table>\n",
       "</div>"
      ],
      "text/plain": [
       "   survived  pclass  sex   age  sibsp  parch    ticket      fare        cabin  \\\n",
       "0         0       0    1  54.0      0      0     17463   51.8625          E46   \n",
       "1         0       0    1  64.0      1      4     19950  263.0000  C23 C25 C27   \n",
       "2         1       0    0  24.0      0      0  PC 17477   69.3000          B35   \n",
       "3         0       2    1   2.0      4      1   3101295   39.6875          NaN   \n",
       "4         1       0    0  16.0      0      0    110152   86.5000          B79   \n",
       "\n",
       "  embarked       home.dest  noble  military  h_Dr  h_Master  h_Miss  h_Mr  \\\n",
       "0        S  Dorchester, MA      0         0     0         0       0     1   \n",
       "1        S    Winnipeg, MB      0         0     0         0       0     1   \n",
       "2        C             NaN      0         0     0         0       1     0   \n",
       "3        S             NaN      0         0     0         1       0     0   \n",
       "4        S             NaN      0         0     0         0       1     0   \n",
       "\n",
       "   h_Mrs  h_Ms  h_Rev  \n",
       "0      0     0      0  \n",
       "1      0     0      0  \n",
       "2      0     0      0  \n",
       "3      0     0      0  \n",
       "4      0     0      0  "
      ]
     },
     "execution_count": 11,
     "metadata": {},
     "output_type": "execute_result"
    }
   ],
   "source": [
    "# encode sex columns\n",
    "df['sex'] = le.fit_transform(df['sex'])\n",
    "df.head()"
   ]
  },
  {
   "cell_type": "markdown",
   "metadata": {},
   "source": [
    "## 4. age\n",
    "* numericka hodnota\n",
    "* chybi 1000 - 796 = 204 hodnot (~20%)\n",
    "* **potreba doplnit data NETRIVIALNE** - ***doplnime v pozdejsich krocich***\n",
    "* prozatim si tu jen plotnu nejake veci, abych vedel co a jak"
   ]
  },
  {
   "cell_type": "code",
   "execution_count": 12,
   "metadata": {},
   "outputs": [
    {
     "data": {
      "text/plain": [
       "<matplotlib.axes._subplots.AxesSubplot at 0x7f830adbef98>"
      ]
     },
     "execution_count": 12,
     "metadata": {},
     "output_type": "execute_result"
    },
    {
     "data": {
      "text/plain": [
       "<Figure size 1080x1440 with 0 Axes>"
      ]
     },
     "metadata": {},
     "output_type": "display_data"
    },
    {
     "data": {
      "image/png": "[encoded data removed]",
      "text/plain": [
       "<Figure size 432x288 with 1 Axes>"
      ]
     },
     "metadata": {
      "needs_background": "light"
     },
     "output_type": "display_data"
    },
    {
     "data": {
      "image/png": "[encoded data removed]",
      "text/plain": [
       "<Figure size 432x288 with 1 Axes>"
      ]
     },
     "metadata": {
      "needs_background": "light"
     },
     "output_type": "display_data"
    }
   ],
   "source": [
    "#df.age = np.ceil(df.age)\n",
    "\n",
    "plt.figure(figsize=(15,20)) # velikost figsize se určuje v palcích (angl. inches)\n",
    "\n",
    " #získání přeživších a nepřeživších osob\n",
    "survived = df[df['survived'] == 1]\n",
    "not_survived = df[df['survived'] == 0]\n",
    "\n",
    "\n",
    "ax = survived.plot.scatter(x='age', y='pclass', color='Green', label='Survived')\n",
    "not_survived.plot.scatter(x='age', y='pclass', color='Black', label='Not Survived', ax = ax)\n",
    "\n",
    "\n",
    "df.plot.scatter(x='age', y='survived')"
   ]
  },
  {
   "cell_type": "markdown",
   "metadata": {},
   "source": [
    "* pridam si sloupeck age_category (0-9,10-19, atd. ..)\n",
    "* a plotnu jeste neco"
   ]
  },
  {
   "cell_type": "code",
   "execution_count": 13,
   "metadata": {},
   "outputs": [
    {
     "data": {
      "text/plain": [
       "<matplotlib.axes._subplots.AxesSubplot at 0x7f830a67aef0>"
      ]
     },
     "execution_count": 13,
     "metadata": {},
     "output_type": "execute_result"
    },
    {
     "data": {
      "image/png": "[encoded data removed]",
      "text/plain": [
       "<Figure size 432x288 with 1 Axes>"
      ]
     },
     "metadata": {
      "needs_background": "light"
     },
     "output_type": "display_data"
    },
    {
     "data": {
      "image/png": "[encoded data removed]",
      "text/plain": [
       "<Figure size 432x288 with 1 Axes>"
      ]
     },
     "metadata": {
      "needs_background": "light"
     },
     "output_type": "display_data"
    }
   ],
   "source": [
    "bins = np.arange(1, 10) * 10\n",
    "df['age_category'] = np.digitize(df.age, bins, right=True)\n",
    "\n",
    "age_survived = df.groupby(['age_category', 'survived']).age.count().unstack()\n",
    "age_survived.plot(kind='bar')\n",
    "\n",
    "age_class = df.groupby(['pclass', 'age_category']).age.count().unstack()\n",
    "age_class.plot(kind='bar')\n",
    "\n",
    "# df.groupby(['sex','pclass'])['survived'].sum().sort_values(ascending=False).head(10).unstack().plot(kind='bar',stacked=True)"
   ]
  },
  {
   "cell_type": "markdown",
   "metadata": {},
   "source": [
    "* Je videt ze vek ma na preziti velky vliv, takze to budeme muset doplnit nejak velmi dobre..."
   ]
  },
  {
   "cell_type": "markdown",
   "metadata": {},
   "source": [
    "## 5. sibsp & 6. parch  sourozenci+mazele & rodice+deti\n",
    "* oboje numericke hodnoty\n",
    "* ale sly by z toho udelat dalsi priznaky (napr. kategorie ma/nema sourozence)\n",
    "* data nechybi\n",
    "* **potreba vic prozkoumat** protoze zatim vubec nevim jestli je to k necemu uzitecne"
   ]
  },
  {
   "cell_type": "code",
   "execution_count": 14,
   "metadata": {},
   "outputs": [
    {
     "data": {
      "text/plain": [
       "<matplotlib.axes._subplots.AxesSubplot at 0x7f830a535c50>"
      ]
     },
     "execution_count": 14,
     "metadata": {},
     "output_type": "execute_result"
    },
    {
     "data": {
      "image/png": "[encoded data removed]",
      "text/plain": [
       "<Figure size 432x288 with 1 Axes>"
      ]
     },
     "metadata": {
      "needs_background": "light"
     },
     "output_type": "display_data"
    },
    {
     "data": {
      "image/png": "[encoded data removed]",
      "text/plain": [
       "<Figure size 432x288 with 1 Axes>"
      ]
     },
     "metadata": {
      "needs_background": "light"
     },
     "output_type": "display_data"
    }
   ],
   "source": [
    "# df.plot(x='sibsp', y='survived', kind='bar')\n",
    "sib_maried = df.groupby(['sibsp', 'survived']).survived.count().unstack()\n",
    "sib_maried.plot(kind='bar')\n",
    "\n",
    "# jeste aby byl videt ten zbytek\n",
    "sib_maried = df.loc[df.sibsp > 2].groupby(['sibsp', 'survived']).survived.count().unstack()\n",
    "sib_maried.plot(kind='bar')"
   ]
  },
  {
   "cell_type": "markdown",
   "metadata": {},
   "source": [
    "* zretelne vidime, ze mit na Titaniku 1 nebo 2 sourozence / manzela ci manzelku vyrazne zvysovalo sance na preziti...\n",
    "* jak jsou na tom rodice a deti ?"
   ]
  },
  {
   "cell_type": "code",
   "execution_count": 15,
   "metadata": {},
   "outputs": [
    {
     "data": {
      "text/plain": [
       "<matplotlib.axes._subplots.AxesSubplot at 0x7f830a4b27b8>"
      ]
     },
     "execution_count": 15,
     "metadata": {},
     "output_type": "execute_result"
    },
    {
     "data": {
      "image/png": "[encoded data removed]",
      "text/plain": [
       "<Figure size 432x288 with 1 Axes>"
      ]
     },
     "metadata": {
      "needs_background": "light"
     },
     "output_type": "display_data"
    },
    {
     "data": {
      "image/png": "[encoded data removed]",
      "text/plain": [
       "<Figure size 432x288 with 1 Axes>"
      ]
     },
     "metadata": {
      "needs_background": "light"
     },
     "output_type": "display_data"
    }
   ],
   "source": [
    "parent_child = df.groupby(['parch', 'survived']).survived.count().unstack()\n",
    "parent_child.plot(kind='bar')\n",
    "\n",
    "# a abych videly i zbytek\n",
    "parent_child = df.loc[df.parch > 2].groupby(['parch', 'survived']).survived.count().unstack()\n",
    "parent_child.plot(kind='bar')"
   ]
  },
  {
   "cell_type": "markdown",
   "metadata": {},
   "source": [
    "* Je videt ze 2, 3 a 4 clenne rodiny s detmi mely vekou sanci na preziti\n",
    "* Jak jsou na tom rodiny jako celek?"
   ]
  },
  {
   "cell_type": "code",
   "execution_count": 16,
   "metadata": {},
   "outputs": [
    {
     "data": {
      "text/plain": [
       "<matplotlib.axes._subplots.AxesSubplot at 0x7f830a460b70>"
      ]
     },
     "execution_count": 16,
     "metadata": {},
     "output_type": "execute_result"
    },
    {
     "data": {
      "image/png": "[encoded data removed]",
      "text/plain": [
       "<Figure size 432x288 with 1 Axes>"
      ]
     },
     "metadata": {
      "needs_background": "light"
     },
     "output_type": "display_data"
    },
    {
     "data": {
      "image/png": "[encoded data removed]",
      "text/plain": [
       "<Figure size 432x288 with 1 Axes>"
      ]
     },
     "metadata": {
      "needs_background": "light"
     },
     "output_type": "display_data"
    }
   ],
   "source": [
    "df['whole_family'] = df.sibsp + df.parch\n",
    "\n",
    "# whole family\n",
    "family = df.groupby(['whole_family', 'survived']).survived.count().unstack()\n",
    "family.plot(kind='bar')\n",
    "\n",
    "family = df.loc[df.whole_family > 2].groupby(['whole_family', 'survived']).survived.count().unstack()\n",
    "family.plot(kind='bar')"
   ]
  },
  {
   "cell_type": "markdown",
   "metadata": {},
   "source": [
    "* Tak je videt ze kdyz byla cela rodina okolo 2 - 4 clenu, tak to hodne zvysovalo sanci na jejich preziti\n",
    "* Rad bych ty hodnoty jeste nejak lip spojil, nez ze jenom secetl, ale nejak nevim presne jak, protoze mam pocit, ze mi to nedava jeste presne prehled o tech rodinach"
   ]
  },
  {
   "cell_type": "code",
   "execution_count": 17,
   "metadata": {},
   "outputs": [
    {
     "data": {
      "text/plain": [
       "<matplotlib.axes._subplots.AxesSubplot at 0x7f83083306a0>"
      ]
     },
     "execution_count": 17,
     "metadata": {},
     "output_type": "execute_result"
    },
    {
     "data": {
      "image/png": "[encoded data removed]",
      "text/plain": [
       "<Figure size 432x288 with 1 Axes>"
      ]
     },
     "metadata": {
      "needs_background": "light"
     },
     "output_type": "display_data"
    }
   ],
   "source": [
    "# prunik sibsp a parch kteri maji nejvyssi sanci na preziti\n",
    "\n",
    "sibsp_max_sance = df.loc[df.sibsp > 0].loc[df.sibsp < 3]\n",
    "sibsp_parch_max_sance = sibsp_max_sance.loc[df.parch > 0].loc[df.parch < 4]\n",
    "\n",
    "prunik_v_poctu = sibsp_parch_max_sance.groupby(['whole_family', 'survived']).survived.count().unstack()\n",
    "\n",
    "prunik_v_poctu.plot(kind='bar')"
   ]
  },
  {
   "cell_type": "markdown",
   "metadata": {},
   "source": [
    "* To je zajivame. Je videt ze i v pruniku maji velkou sanci na preziti\n",
    "* Jak je to v mimo prunik ?"
   ]
  },
  {
   "cell_type": "code",
   "execution_count": 18,
   "metadata": {},
   "outputs": [
    {
     "data": {
      "text/plain": [
       "<matplotlib.axes._subplots.AxesSubplot at 0x7f830827ec18>"
      ]
     },
     "execution_count": 18,
     "metadata": {},
     "output_type": "execute_result"
    },
    {
     "data": {
      "image/png": "[encoded data removed]",
      "text/plain": [
       "<Figure size 432x288 with 1 Axes>"
      ]
     },
     "metadata": {
      "needs_background": "light"
     },
     "output_type": "display_data"
    },
    {
     "data": {
      "image/png": "[encoded data removed]",
      "text/plain": [
       "<Figure size 432x288 with 1 Axes>"
      ]
     },
     "metadata": {
      "needs_background": "light"
     },
     "output_type": "display_data"
    }
   ],
   "source": [
    "# pozn. nikdo nema vic jak 2 sourozence a zaroven vic jak 3 rodice/deti\n",
    "\n",
    "sibsp_max_sance = df.loc[df.sibsp == 0]\n",
    "sibsp_parch_max_sance = sibsp_max_sance.loc[df.parch >= 4]\n",
    "\n",
    "prunik_v_poctu = sibsp_parch_max_sance.groupby(['whole_family', 'survived']).survived.count().unstack()\n",
    "\n",
    "prunik_v_poctu.plot(kind='bar')\n",
    "\n",
    "sibsp_max_sance = df.loc[df.sibsp >= 3]\n",
    "sibsp_parch_max_sance = sibsp_max_sance.loc[df.parch == 0]\n",
    "\n",
    "prunik_v_poctu = sibsp_parch_max_sance.groupby(['whole_family', 'survived']).survived.count().unstack()\n",
    "\n",
    "prunik_v_poctu.plot(kind='bar')"
   ]
  },
  {
   "cell_type": "markdown",
   "metadata": {},
   "source": [
    "* No je videt ze to jsou uz jen nejake krajni pripady (jen 3 osoby...)\n",
    "* Takze nas to nemusi moc zajimat asi"
   ]
  },
  {
   "cell_type": "markdown",
   "metadata": {},
   "source": [
    "## 7. ticket\n",
    "* data nechybi\n",
    "* alfanumericke hodnoty\n",
    "* **potreba vice prozkoumat**\n",
    "* Zatim mi to prijdou jako nejake nahodne alfanumericke hashe"
   ]
  },
  {
   "cell_type": "code",
   "execution_count": 19,
   "metadata": {},
   "outputs": [
    {
     "data": {
      "text/plain": [
       "247"
      ]
     },
     "execution_count": 19,
     "metadata": {},
     "output_type": "execute_result"
    }
   ],
   "source": [
    "df['ticket'].count() - df['ticket'].nunique()"
   ]
  },
  {
   "cell_type": "markdown",
   "metadata": {},
   "source": [
    "* vidime ze 24% hodnot je duplikovanych\n",
    "* jedna se o nejake listky ktere byly pro vice osob najednou nebo neco takoveho ???"
   ]
  },
  {
   "cell_type": "code",
   "execution_count": 20,
   "metadata": {},
   "outputs": [],
   "source": [
    "df['tex_ticket'] = df.ticket.str.replace('\\d', '', regex=True).str.replace('\\s', '', regex=True).str.replace('\\.', '', regex=True).str.replace('\\/', '', regex=True).str.lower()\n",
    "\n",
    "# 31\n",
    "df['tex_ticket'].drop_duplicates().sort_values()\n",
    "\n",
    "# 749 ruznych ciselnych hodnot (tedy 4 listky meli stejne cislo, ale jine pismenko)\n",
    "df['num_ticket'] = df.ticket.str.replace('[^0-9.]', '', regex=True).str.replace('\\.', '', regex=True).str.replace('^$', '0', regex=True)\n",
    "df.num_ticket = df.num_ticket.astype(np.int64)\n",
    "# df.num_ticket.max()"
   ]
  },
  {
   "cell_type": "markdown",
   "metadata": {},
   "source": [
    "* No a nejak dal nevim moc co stim\n",
    "* listky obsahuji 31 ruznych texovych retezcu\n",
    "    * ty myslim dopovidaji tomu kde byl listek koupeny\n",
    "* a 749 ruznych ciselnych hodnot (251 duplicitnich)\n",
    "    * ty nemam tuseni cemu odpovidaji (nahodne hashe?)\n"
   ]
  },
  {
   "cell_type": "code",
   "execution_count": 21,
   "metadata": {},
   "outputs": [
    {
     "data": {
      "text/plain": [
       "<matplotlib.axes._subplots.AxesSubplot at 0x7f83082673c8>"
      ]
     },
     "execution_count": 21,
     "metadata": {},
     "output_type": "execute_result"
    },
    {
     "data": {
      "image/png": "[encoded data removed]",
      "text/plain": [
       "<Figure size 432x288 with 1 Axes>"
      ]
     },
     "metadata": {
      "needs_background": "light"
     },
     "output_type": "display_data"
    },
    {
     "data": {
      "image/png": "[encoded data removed]",
      "text/plain": [
       "<Figure size 432x288 with 1 Axes>"
      ]
     },
     "metadata": {
      "needs_background": "light"
     },
     "output_type": "display_data"
    },
    {
     "data": {
      "image/png": "[encoded data removed]",
      "text/plain": [
       "<Figure size 432x288 with 1 Axes>"
      ]
     },
     "metadata": {
      "needs_background": "light"
     },
     "output_type": "display_data"
    },
    {
     "data": {
      "image/png": "[encoded data removed]",
      "text/plain": [
       "<Figure size 432x288 with 1 Axes>"
      ]
     },
     "metadata": {
      "needs_background": "light"
     },
     "output_type": "display_data"
    },
    {
     "data": {
      "image/png": "[encoded data removed]",
      "text/plain": [
       "<Figure size 432x288 with 1 Axes>"
      ]
     },
     "metadata": {
      "needs_background": "light"
     },
     "output_type": "display_data"
    },
    {
     "data": {
      "image/png": "[encoded data removed]",
      "text/plain": [
       "<Figure size 432x288 with 1 Axes>"
      ]
     },
     "metadata": {
      "needs_background": "light"
     },
     "output_type": "display_data"
    }
   ],
   "source": [
    "\n",
    "tmp = df[['pclass','num_ticket']]\n",
    "\n",
    "# no box plot\n",
    "tmp.groupby(['pclass']).agg(['median','min', 'max', 'quantile']).plot(style='o')\n",
    "\n",
    "# box plot\n",
    "tmp.boxplot(by='pclass')\n",
    "\n",
    "tmp.loc[df.num_ticket < 23101].boxplot(by='pclass')\n",
    "tmp.loc[df.pclass == 0].boxplot(by='pclass')\n",
    "tmp.loc[df.pclass == 1].boxplot(by='pclass')\n",
    "tmp.loc[df.pclass == 2].boxplot(by='pclass')"
   ]
  },
  {
   "cell_type": "markdown",
   "metadata": {},
   "source": [
    "* Nope. Nic v tom nevidim. Myslim ze to je misleading se tim zabyvat\n",
    "* reseni -> dropnu sloupecek ticket a i dva nove vytvorene sloupecky tex_tecket a num_ticket"
   ]
  },
  {
   "cell_type": "code",
   "execution_count": 22,
   "metadata": {},
   "outputs": [],
   "source": [
    "df = df.drop(columns=['ticket'])\n",
    "df = df.drop(columns=['tex_ticket'])\n",
    "df = df.drop(columns=['num_ticket'])"
   ]
  },
  {
   "cell_type": "markdown",
   "metadata": {},
   "source": [
    "## 8. fare\n",
    "* numericka hodnota\n",
    "* chybi 1000 - 999 = 1 hodnota\n",
    "* **potreba doplnit data**\n",
    "* **a vice prozkoumat**\n",
    "* Hadam ze to bude mit vliv na preziti, protoze to je asi nejak zavisle na pclass (zatim hadam)\n",
    "* pojdme neco vyplotit"
   ]
  },
  {
   "cell_type": "code",
   "execution_count": 23,
   "metadata": {},
   "outputs": [
    {
     "data": {
      "text/plain": [
       "<matplotlib.axes._subplots.AxesSubplot at 0x7f830a6a47b8>"
      ]
     },
     "execution_count": 23,
     "metadata": {},
     "output_type": "execute_result"
    },
    {
     "data": {
      "image/png": "[encoded data removed]",
      "text/plain": [
       "<Figure size 432x288 with 1 Axes>"
      ]
     },
     "metadata": {
      "needs_background": "light"
     },
     "output_type": "display_data"
    },
    {
     "data": {
      "image/png": "[encoded data removed]",
      "text/plain": [
       "<Figure size 432x288 with 1 Axes>"
      ]
     },
     "metadata": {
      "needs_background": "light"
     },
     "output_type": "display_data"
    },
    {
     "data": {
      "image/png": "[encoded data removed]",
      "text/plain": [
       "<Figure size 432x288 with 1 Axes>"
      ]
     },
     "metadata": {
      "needs_background": "light"
     },
     "output_type": "display_data"
    }
   ],
   "source": [
    "# median min max prumer pro kazdou tridu\n",
    "tmp = df[['pclass','fare']]\n",
    "tmp.groupby(['pclass']).agg(['median','min', 'max', 'quantile']).plot(style='o')\n",
    "\n",
    "# jen median\n",
    "tmp.boxplot(by='pclass')\n",
    "\n",
    "tmp.loc[tmp.pclass > 0].boxplot(by='pclass')"
   ]
  },
  {
   "cell_type": "markdown",
   "metadata": {},
   "source": [
    "* Tak vidime ze urcitej cenovej overlap tam je...\n",
    "* Jak je to vuci preziti?"
   ]
  },
  {
   "cell_type": "code",
   "execution_count": 24,
   "metadata": {},
   "outputs": [
    {
     "data": {
      "text/plain": [
       "<matplotlib.axes._subplots.AxesSubplot at 0x7f830ab54080>"
      ]
     },
     "execution_count": 24,
     "metadata": {},
     "output_type": "execute_result"
    },
    {
     "data": {
      "image/png": "[encoded data removed]",
      "text/plain": [
       "<Figure size 432x288 with 1 Axes>"
      ]
     },
     "metadata": {
      "needs_background": "light"
     },
     "output_type": "display_data"
    }
   ],
   "source": [
    "bins = np.arange(1, 10) * 10\n",
    "df['fare_category'] = np.digitize(df.fare, bins, right=True)\n",
    "\n",
    "fare_survived = df.loc[df.fare <= 100].groupby(['fare_category', 'survived']).survived.count().unstack()\n",
    "fare_survived.plot(kind='bar')"
   ]
  },
  {
   "cell_type": "markdown",
   "metadata": {},
   "source": [
    "* No vidime ze lidi s listkama pod 10 dolaru moc sanci nemeli\n",
    "* Jak jsou na tom listky nad 10 navic s ohledem na class"
   ]
  },
  {
   "cell_type": "code",
   "execution_count": 25,
   "metadata": {},
   "outputs": [
    {
     "data": {
      "text/plain": [
       "<matplotlib.axes._subplots.AxesSubplot at 0x7f830aaffb70>"
      ]
     },
     "execution_count": 25,
     "metadata": {},
     "output_type": "execute_result"
    },
    {
     "data": {
      "image/png": "[encoded data removed]",
      "text/plain": [
       "<Figure size 432x288 with 1 Axes>"
      ]
     },
     "metadata": {
      "needs_background": "light"
     },
     "output_type": "display_data"
    }
   ],
   "source": [
    "fare_survived = df.loc[df.fare <= 100].loc[df.fare > 10].groupby(['pclass', 'fare_category' ,'survived' ]).survived.count().unstack()\n",
    "fare_survived.plot(kind='bar', stacked=True)"
   ]
  },
  {
   "cell_type": "markdown",
   "metadata": {},
   "source": [
    "* Ponekud paradoxne se zda, ze z drazsiho listku  meli, co se sanci na preziti tyce, prospech jen lidi v 1 tride\n",
    "* naopak v druhe i ve treti byly drazsi listky, jak je videt, zarukou smrti\n",
    "* Nenapada me zadny zpusob jak z toho vyrobit najek dalsi labely, tak to necham"
   ]
  },
  {
   "cell_type": "markdown",
   "metadata": {},
   "source": [
    "* Ted jeste doplnit data\n",
    "* Vzhledem k tomu, ze chybi jen 1 hodnota, nebudu to moc resit, a doplnim ji medianem cen v dane pclass "
   ]
  },
  {
   "cell_type": "code",
   "execution_count": 26,
   "metadata": {},
   "outputs": [],
   "source": [
    "# >>> WTF IN 3, 2, 1 ... <<<\n",
    "# toto je naprosto silene\n",
    "# trvalo mi to pul hodiny nez jsem to vytvoril\n",
    "# urcite to jde 1000x jednoduseji a lepe\n",
    "\n",
    "df['fare'][df.fare.apply(np.isnan)] = df.loc[df.pclass == df.loc[df['fare'][df.fare.apply(np.isnan)].index].pclass.iloc[0] ].fare .median()"
   ]
  },
  {
   "cell_type": "markdown",
   "metadata": {},
   "source": [
    "## 9. cabin\n",
    "* **(potreba vic prozkoumat)**\n",
    "* chybi 1000 - 229 = 771 (~80%)\n",
    "* dat chybi opravdu hodne\n",
    "* **potreba doplnit data**\n",
    "   "
   ]
  },
  {
   "cell_type": "code",
   "execution_count": 27,
   "metadata": {},
   "outputs": [
    {
     "data": {
      "text/plain": [
       "0            E46\n",
       "1    C23 C25 C27\n",
       "2            B35\n",
       "3            NaN\n",
       "4            B79\n",
       "Name: cabin, dtype: object"
      ]
     },
     "execution_count": 27,
     "metadata": {},
     "output_type": "execute_result"
    }
   ],
   "source": [
    "# 72 duplicit -> lide z jedne kabiny\n",
    "df.cabin.count() - df.cabin.nunique()\n",
    "\n",
    "df.cabin.drop_duplicates().head()"
   ]
  },
  {
   "cell_type": "markdown",
   "metadata": {},
   "source": [
    "* podle https://www.encyclopedia-titanica.org/cabins.html odpovidaji pismenka dane palube pricemz:\n",
    "* first class\n",
    "    * T\n",
    "    * A (0 .. 37)\n",
    "    * B (0 .. 102)\n",
    "    * C (0 .. 148)\n",
    "    * D (0 .. 50)\n",
    "    * E (0 .. 68)\n",
    "* second class\n",
    "    * D (56)\n",
    "    * E (77 .. 101)\n",
    "    * F (0 .. 33)\n",
    "* third class\n",
    "    * D (135)\n",
    "    * E (121 .. 160)\n",
    "    * F (38 .. 73)\n",
    "    * G (0 .. 10)\n",
    "    \n",
    "* chybi hodne dat (80%...)\n",
    "* hadam ze nejvic info je o lidech z 1. tridy\n",
    "* teoreticky bych data mohl zachovat, kdyby nejak specifikovali vic nejakou skupinu\n",
    "* jinak mam v planu je smazat, protoze 80% dat doplnovat, jeste k tomu cisel kabin, mi prijde wtf..\n",
    "\n",
    "* NaN prozatim doplnim pismenem U, jakoze Unknown cabin"
   ]
  },
  {
   "cell_type": "code",
   "execution_count": 28,
   "metadata": {},
   "outputs": [
    {
     "data": {
      "text/plain": [
       "<matplotlib.axes._subplots.AxesSubplot at 0x7f830a6a45c0>"
      ]
     },
     "execution_count": 28,
     "metadata": {},
     "output_type": "execute_result"
    },
    {
     "data": {
      "image/png": "[encoded data removed]",
      "text/plain": [
       "<Figure size 432x288 with 1 Axes>"
      ]
     },
     "metadata": {
      "needs_background": "light"
     },
     "output_type": "display_data"
    },
    {
     "data": {
      "image/png": "[encoded data removed]",
      "text/plain": [
       "<Figure size 432x288 with 1 Axes>"
      ]
     },
     "metadata": {
      "needs_background": "light"
     },
     "output_type": "display_data"
    },
    {
     "data": {
      "image/png": "[encoded data removed]",
      "text/plain": [
       "<Figure size 432x288 with 1 Axes>"
      ]
     },
     "metadata": {
      "needs_background": "light"
     },
     "output_type": "display_data"
    }
   ],
   "source": [
    "df.cabin = df.cabin.fillna('U') \n",
    "df['deck'] = df.cabin.str.replace('[^a-zA-Z]+', '', regex=True).str[0]\n",
    "df.deck.drop_duplicates()\n",
    "\n",
    "\n",
    "#df.cabin.head(20)\n",
    "\n",
    "#delete multiple cabins, delete all but numbers\n",
    "df['cabin_num'] = df.cabin.str.replace(' .*', '').str.replace('[^0-9]+', '', regex=True).str.replace('^$', '170', regex=True)\n",
    "df.cabin_num = df.cabin_num.fillna(170) # toto vypada podezrele, ale chci odlisit ty co neznam od tech co budou v kategori 0\n",
    "df.cabin_num = df.cabin_num.astype(np.int64)\n",
    "\n",
    "bins = np.arange(1, 18) * 10\n",
    "\n",
    "df['cabin_category'] = np.digitize(df.cabin_num, bins, right=True)\n",
    "\n",
    "# cabin muzeme dropnout\n",
    "df = df.drop(columns=['cabin'])\n",
    "\n",
    "# median min max prumer pro kazdou tridu\n",
    "tmp = df[['pclass','deck']]\n",
    "tmp.groupby(['pclass', 'deck']).deck.count().unstack().plot(kind='bar')\n",
    "\n",
    "tmp.loc[tmp.deck != 'U'].groupby(['pclass', 'deck']).deck.count().unstack().plot(kind='bar')\n",
    "\n",
    "tmp.loc[tmp.deck != 'U'].loc[tmp.pclass != 0].groupby(['pclass', 'deck']).deck.count().unstack().plot(kind='bar')"
   ]
  },
  {
   "cell_type": "markdown",
   "metadata": {},
   "source": [
    "* to jsme tak nejak predpokladali... o lidech z 2. a 3. tridy prakticky nic nevime...\n",
    "* pojdme to projit ale jeste nejak podrobneji"
   ]
  },
  {
   "cell_type": "code",
   "execution_count": 29,
   "metadata": {},
   "outputs": [
    {
     "data": {
      "text/plain": [
       "0.7936507936507936"
      ]
     },
     "execution_count": 29,
     "metadata": {},
     "output_type": "execute_result"
    }
   ],
   "source": [
    "tmp = df[['pclass','deck']]\n",
    "\n",
    "#252\n",
    "celkem = tmp.loc[tmp.pclass == 0].pclass.count()\n",
    "#200\n",
    "vime = tmp.loc[tmp.pclass == 0].loc[tmp.deck != 'U'].pclass.count()\n",
    "vime / celkem"
   ]
  },
  {
   "cell_type": "markdown",
   "metadata": {},
   "source": [
    "* no vida, situace se obratila, u lidi z prvni tridy zname v 80% jejich kajuty. to by se mohlo hodit"
   ]
  },
  {
   "cell_type": "code",
   "execution_count": 30,
   "metadata": {},
   "outputs": [
    {
     "data": {
      "text/plain": [
       "<matplotlib.axes._subplots.AxesSubplot at 0x7f83081f1668>"
      ]
     },
     "execution_count": 30,
     "metadata": {},
     "output_type": "execute_result"
    },
    {
     "data": {
      "image/png": "[encoded data removed]",
      "text/plain": [
       "<Figure size 432x288 with 1 Axes>"
      ]
     },
     "metadata": {
      "needs_background": "light"
     },
     "output_type": "display_data"
    },
    {
     "data": {
      "image/png": "[encoded data removed]",
      "text/plain": [
       "<Figure size 432x288 with 1 Axes>"
      ]
     },
     "metadata": {
      "needs_background": "light"
     },
     "output_type": "display_data"
    },
    {
     "data": {
      "image/png": "[encoded data removed]",
      "text/plain": [
       "<Figure size 432x288 with 1 Axes>"
      ]
     },
     "metadata": {
      "needs_background": "light"
     },
     "output_type": "display_data"
    }
   ],
   "source": [
    "first_class = df.loc[df.pclass == 0]\n",
    "\n",
    "first_class.groupby(['deck', 'survived']).survived.count().unstack().plot(kind='bar')\n",
    "df.loc[df.pclass == 1].groupby(['deck', 'survived']).survived.count().unstack().plot(kind='bar')\n",
    "df.loc[df.pclass == 2].groupby(['deck', 'survived']).survived.count().unstack().plot(kind='bar')"
   ]
  },
  {
   "cell_type": "markdown",
   "metadata": {},
   "source": [
    "* vidime ze paluba rozhodne hraje roli v tom kdo prezil (alespon v prvni tride)\n",
    "* zkusme porzkoumat jeste cislo kajuty (zde uz moc neocekavam)"
   ]
  },
  {
   "cell_type": "code",
   "execution_count": 31,
   "metadata": {},
   "outputs": [
    {
     "data": {
      "text/plain": [
       "<matplotlib.axes._subplots.AxesSubplot at 0x7f830a81b518>"
      ]
     },
     "execution_count": 31,
     "metadata": {},
     "output_type": "execute_result"
    },
    {
     "data": {
      "image/png": "[encoded data removed]",
      "text/plain": [
       "<Figure size 432x288 with 1 Axes>"
      ]
     },
     "metadata": {
      "needs_background": "light"
     },
     "output_type": "display_data"
    },
    {
     "data": {
      "image/png": "[encoded data removed]",
      "text/plain": [
       "<Figure size 432x288 with 1 Axes>"
      ]
     },
     "metadata": {
      "needs_background": "light"
     },
     "output_type": "display_data"
    },
    {
     "data": {
      "image/png": "[encoded data removed]",
      "text/plain": [
       "<Figure size 432x288 with 1 Axes>"
      ]
     },
     "metadata": {
      "needs_background": "light"
     },
     "output_type": "display_data"
    },
    {
     "data": {
      "image/png": "[encoded data removed]",
      "text/plain": [
       "<Figure size 432x288 with 1 Axes>"
      ]
     },
     "metadata": {
      "needs_background": "light"
     },
     "output_type": "display_data"
    }
   ],
   "source": [
    "df.groupby(['cabin_category', 'survived']).survived.count().unstack().plot(kind='bar')\n",
    "first_class.groupby(['cabin_category', 'survived']).survived.count().unstack().plot(kind='bar')\n",
    "df.loc[df.pclass == 1].groupby(['cabin_category', 'survived']).survived.count().unstack().plot(kind='bar')\n",
    "df.loc[df.pclass == 2].groupby(['cabin_category', 'survived']).survived.count().unstack().plot(kind='bar')"
   ]
  },
  {
   "cell_type": "markdown",
   "metadata": {},
   "source": [
    "* ale joo. tak je videt, ze i cislo kajuty ma nejaky vliv, asi?\n",
    "* tak ted to pojdme nejak za-engineerovat do naseho datasetu\n",
    "* data jsou k necemu hlavne pokud jsou osoby v prvni tride...\n",
    "\n",
    "* cabin category mame zatim jen u first_class dataframe\n",
    "* predelat deck, cabin_num, cabin_category a to tak, ze\n",
    "    * kdyz nevime deck -> u .. abychom odlisily od tech co vime\n",
    "    * kdyz nevime cabin -> 170 .. abychom odlisil od tech co vime\n",
    "    * udelat cabin category\n",
    "    * a nevim jestli jeste neco nejak....\n",
    "    \n",
    "* nakonec jeste zakodujeme deck jako kategorie\n",
    "* davam poradi protoze odpovida pozici na lodi..."
   ]
  },
  {
   "cell_type": "code",
   "execution_count": 32,
   "metadata": {},
   "outputs": [],
   "source": [
    "deck_map = {\n",
    "    'A' : 0,\n",
    "    'B' : 1,\n",
    "    'C' : 2,\n",
    "    'D' : 3,\n",
    "    'E' : 5,\n",
    "    'F' : 6,\n",
    "    'G' : 7,\n",
    "    'U' : 8,\n",
    "    'T' : 9\n",
    "}\n",
    "\n",
    "df.deck = df.deck.replace(deck_map)"
   ]
  },
  {
   "cell_type": "markdown",
   "metadata": {},
   "source": [
    "## 10. embarked\n",
    "* kategoricka hodnota neserazena -> **nominalni**\n",
    "* teoreticky jako serazena (lod jela postupne, ale fuck it..)\n",
    "* chybi 1000 - 1 = 1 hodnota\n",
    "* **potreba doplnit data**\n",
    "* C = Cherbourg (FR), Q = Queenstown(NZ), S = Southampton(UK)"
   ]
  },
  {
   "cell_type": "code",
   "execution_count": 33,
   "metadata": {},
   "outputs": [
    {
     "data": {
      "text/plain": [
       "<matplotlib.axes._subplots.AxesSubplot at 0x7f830abb74a8>"
      ]
     },
     "execution_count": 33,
     "metadata": {},
     "output_type": "execute_result"
    },
    {
     "data": {
      "image/png": "[encoded data removed]",
      "text/plain": [
       "<Figure size 432x288 with 1 Axes>"
      ]
     },
     "metadata": {
      "needs_background": "light"
     },
     "output_type": "display_data"
    }
   ],
   "source": [
    "df.groupby(['embarked', 'survived']).survived.count().unstack().plot(kind='bar')"
   ]
  },
  {
   "cell_type": "markdown",
   "metadata": {},
   "source": [
    "* moc divne, ale asi to nejak zavisi - lide co se nalodily ve Francii meli vetsi sanci na preziti\n",
    "* puvodne jsem chtel dropnout, ale zakoduji jako onehot, asi?\n",
    "* francouzi byli vazenejsi ??"
   ]
  },
  {
   "cell_type": "code",
   "execution_count": 34,
   "metadata": {},
   "outputs": [],
   "source": [
    "# doplnime nejcastejsi hodnotou\n",
    "df.embarked = df.embarked.fillna('S') \n",
    "\n",
    "# OHC\n",
    "emb_onehot = pd.get_dummies(df['embarked'],prefix='em')\n",
    "df = pd.concat([df.drop(columns=['embarked']), emb_onehot], axis=1)"
   ]
  },
  {
   "cell_type": "code",
   "execution_count": 35,
   "metadata": {},
   "outputs": [
    {
     "data": {
      "text/html": [
       "<div>\n",
       "<style scoped>\n",
       "    .dataframe tbody tr th:only-of-type {\n",
       "        vertical-align: middle;\n",
       "    }\n",
       "\n",
       "    .dataframe tbody tr th {\n",
       "        vertical-align: top;\n",
       "    }\n",
       "\n",
       "    .dataframe thead th {\n",
       "        text-align: right;\n",
       "    }\n",
       "</style>\n",
       "<table border=\"1\" class=\"dataframe\">\n",
       "  <thead>\n",
       "    <tr style=\"text-align: right;\">\n",
       "      <th></th>\n",
       "      <th>survived</th>\n",
       "      <th>pclass</th>\n",
       "      <th>sex</th>\n",
       "      <th>age</th>\n",
       "      <th>sibsp</th>\n",
       "      <th>parch</th>\n",
       "      <th>fare</th>\n",
       "      <th>home.dest</th>\n",
       "      <th>noble</th>\n",
       "      <th>military</th>\n",
       "      <th>...</th>\n",
       "      <th>h_Rev</th>\n",
       "      <th>age_category</th>\n",
       "      <th>whole_family</th>\n",
       "      <th>fare_category</th>\n",
       "      <th>deck</th>\n",
       "      <th>cabin_num</th>\n",
       "      <th>cabin_category</th>\n",
       "      <th>em_C</th>\n",
       "      <th>em_Q</th>\n",
       "      <th>em_S</th>\n",
       "    </tr>\n",
       "  </thead>\n",
       "  <tbody>\n",
       "    <tr>\n",
       "      <th>0</th>\n",
       "      <td>0</td>\n",
       "      <td>0</td>\n",
       "      <td>1</td>\n",
       "      <td>54.0</td>\n",
       "      <td>0</td>\n",
       "      <td>0</td>\n",
       "      <td>51.8625</td>\n",
       "      <td>Dorchester, MA</td>\n",
       "      <td>0</td>\n",
       "      <td>0</td>\n",
       "      <td>...</td>\n",
       "      <td>0</td>\n",
       "      <td>5</td>\n",
       "      <td>0</td>\n",
       "      <td>5</td>\n",
       "      <td>5</td>\n",
       "      <td>46</td>\n",
       "      <td>4</td>\n",
       "      <td>0</td>\n",
       "      <td>0</td>\n",
       "      <td>1</td>\n",
       "    </tr>\n",
       "    <tr>\n",
       "      <th>1</th>\n",
       "      <td>0</td>\n",
       "      <td>0</td>\n",
       "      <td>1</td>\n",
       "      <td>64.0</td>\n",
       "      <td>1</td>\n",
       "      <td>4</td>\n",
       "      <td>263.0000</td>\n",
       "      <td>Winnipeg, MB</td>\n",
       "      <td>0</td>\n",
       "      <td>0</td>\n",
       "      <td>...</td>\n",
       "      <td>0</td>\n",
       "      <td>6</td>\n",
       "      <td>5</td>\n",
       "      <td>9</td>\n",
       "      <td>2</td>\n",
       "      <td>23</td>\n",
       "      <td>2</td>\n",
       "      <td>0</td>\n",
       "      <td>0</td>\n",
       "      <td>1</td>\n",
       "    </tr>\n",
       "    <tr>\n",
       "      <th>2</th>\n",
       "      <td>1</td>\n",
       "      <td>0</td>\n",
       "      <td>0</td>\n",
       "      <td>24.0</td>\n",
       "      <td>0</td>\n",
       "      <td>0</td>\n",
       "      <td>69.3000</td>\n",
       "      <td>NaN</td>\n",
       "      <td>0</td>\n",
       "      <td>0</td>\n",
       "      <td>...</td>\n",
       "      <td>0</td>\n",
       "      <td>2</td>\n",
       "      <td>0</td>\n",
       "      <td>6</td>\n",
       "      <td>1</td>\n",
       "      <td>35</td>\n",
       "      <td>3</td>\n",
       "      <td>1</td>\n",
       "      <td>0</td>\n",
       "      <td>0</td>\n",
       "    </tr>\n",
       "    <tr>\n",
       "      <th>3</th>\n",
       "      <td>0</td>\n",
       "      <td>2</td>\n",
       "      <td>1</td>\n",
       "      <td>2.0</td>\n",
       "      <td>4</td>\n",
       "      <td>1</td>\n",
       "      <td>39.6875</td>\n",
       "      <td>NaN</td>\n",
       "      <td>0</td>\n",
       "      <td>0</td>\n",
       "      <td>...</td>\n",
       "      <td>0</td>\n",
       "      <td>0</td>\n",
       "      <td>5</td>\n",
       "      <td>3</td>\n",
       "      <td>8</td>\n",
       "      <td>170</td>\n",
       "      <td>16</td>\n",
       "      <td>0</td>\n",
       "      <td>0</td>\n",
       "      <td>1</td>\n",
       "    </tr>\n",
       "    <tr>\n",
       "      <th>4</th>\n",
       "      <td>1</td>\n",
       "      <td>0</td>\n",
       "      <td>0</td>\n",
       "      <td>16.0</td>\n",
       "      <td>0</td>\n",
       "      <td>0</td>\n",
       "      <td>86.5000</td>\n",
       "      <td>NaN</td>\n",
       "      <td>0</td>\n",
       "      <td>0</td>\n",
       "      <td>...</td>\n",
       "      <td>0</td>\n",
       "      <td>1</td>\n",
       "      <td>0</td>\n",
       "      <td>8</td>\n",
       "      <td>1</td>\n",
       "      <td>79</td>\n",
       "      <td>7</td>\n",
       "      <td>0</td>\n",
       "      <td>0</td>\n",
       "      <td>1</td>\n",
       "    </tr>\n",
       "  </tbody>\n",
       "</table>\n",
       "<p>5 rows × 26 columns</p>\n",
       "</div>"
      ],
      "text/plain": [
       "   survived  pclass  sex   age  sibsp  parch      fare       home.dest  noble  \\\n",
       "0         0       0    1  54.0      0      0   51.8625  Dorchester, MA      0   \n",
       "1         0       0    1  64.0      1      4  263.0000    Winnipeg, MB      0   \n",
       "2         1       0    0  24.0      0      0   69.3000             NaN      0   \n",
       "3         0       2    1   2.0      4      1   39.6875             NaN      0   \n",
       "4         1       0    0  16.0      0      0   86.5000             NaN      0   \n",
       "\n",
       "   military  ...   h_Rev  age_category  whole_family  fare_category  deck  \\\n",
       "0         0  ...       0             5             0              5     5   \n",
       "1         0  ...       0             6             5              9     2   \n",
       "2         0  ...       0             2             0              6     1   \n",
       "3         0  ...       0             0             5              3     8   \n",
       "4         0  ...       0             1             0              8     1   \n",
       "\n",
       "   cabin_num  cabin_category  em_C  em_Q  em_S  \n",
       "0         46               4     0     0     1  \n",
       "1         23               2     0     0     1  \n",
       "2         35               3     1     0     0  \n",
       "3        170              16     0     0     1  \n",
       "4         79               7     0     0     1  \n",
       "\n",
       "[5 rows x 26 columns]"
      ]
     },
     "execution_count": 35,
     "metadata": {},
     "output_type": "execute_result"
    }
   ],
   "source": [
    "df.head()"
   ]
  },
  {
   "cell_type": "markdown",
   "metadata": {},
   "source": [
    "## 11. home.dest\n",
    "* **potreba vice prozkoumat**\n",
    "* chybi 1000 - 575 = 425 (~40%)\n",
    "* **potreba doplnit data**"
   ]
  },
  {
   "cell_type": "markdown",
   "metadata": {},
   "source": [
    "* sposuta ma v dest country code jako \n",
    "    * MA - massachusett \n",
    "    * NY - new york\n",
    "    * WV West Virginia\n",
    "    * ID - idaho?\n",
    "    * NJ - new jersey\n",
    "    * MN - minessota\n",
    "    * atd ...\n",
    "*  udelam sloupecek, kde budou jen destinace (resp. jejich dvoznakove zkratky)"
   ]
  },
  {
   "cell_type": "code",
   "execution_count": 36,
   "metadata": {},
   "outputs": [
    {
     "data": {
      "text/plain": [
       "45"
      ]
     },
     "execution_count": 36,
     "metadata": {},
     "output_type": "execute_result"
    }
   ],
   "source": [
    "# okopiruju\n",
    "df['dest'] = df['home.dest']\n",
    "\n",
    "# ty co nekonci na [a-z][a-z] budou null\n",
    "df['dest'] = df['home.dest'].mask(df['home.dest'].str.contains('[A-Z][A-Z]$', regex=True) == False) \n",
    "\n",
    "# ty co konci na [a-z][a-z] budou jen posledni dva znaky\n",
    "df['dest'] = df['dest'].mask(df['dest'].str.contains('[A-Z][A-Z]$', regex=True) == True, other=df['dest'].str[-2:])\n",
    "\n",
    "## nezname doplnime jako nezname\n",
    "df['dest'] = df['dest'].fillna('XX')\n",
    "\n",
    "# 575 home.dest\n",
    "df['home.dest'].dropna().count()\n",
    "\n",
    "# 440 country cody vyjmto\n",
    "df.dest.dropna().count()\n",
    "\n",
    "#44 kategorii\n",
    "df.dest.dropna().sort_values().drop_duplicates().count()\n",
    "\n"
   ]
  },
  {
   "cell_type": "markdown",
   "metadata": {},
   "source": [
    "* mame ted o cca 15% dat mene.. \n",
    "* ...ale zkusme z toho neco plotnout"
   ]
  },
  {
   "cell_type": "code",
   "execution_count": 37,
   "metadata": {},
   "outputs": [
    {
     "data": {
      "text/plain": [
       "<matplotlib.axes._subplots.AxesSubplot at 0x7f8307e54f28>"
      ]
     },
     "execution_count": 37,
     "metadata": {},
     "output_type": "execute_result"
    },
    {
     "data": {
      "image/png": "[encoded data removed]",
      "text/plain": [
       "<Figure size 432x288 with 1 Axes>"
      ]
     },
     "metadata": {
      "needs_background": "light"
     },
     "output_type": "display_data"
    },
    {
     "data": {
      "image/png": "[encoded data removed]",
      "text/plain": [
       "<Figure size 432x288 with 1 Axes>"
      ]
     },
     "metadata": {
      "needs_background": "light"
     },
     "output_type": "display_data"
    },
    {
     "data": {
      "image/png": "[encoded data removed]",
      "text/plain": [
       "<Figure size 432x288 with 1 Axes>"
      ]
     },
     "metadata": {
      "needs_background": "light"
     },
     "output_type": "display_data"
    }
   ],
   "source": [
    "\n",
    "df.groupby(['dest', 'survived']).survived.count().unstack().plot(kind='bar')\n",
    "df.loc[df.dest != 'XX'].groupby(['dest', 'survived']).survived.count().unstack().plot(kind='bar')\n",
    "df.loc[df.dest != 'XX'].loc[df.dest != 'NY'].groupby(['dest', 'survived']).survived.count().unstack().plot(kind='bar')"
   ]
  },
  {
   "cell_type": "markdown",
   "metadata": {},
   "source": [
    "* No lidi co jeli do new yorku prezili castejti\n",
    "* Ale jinak se bojim aby to nebylo nejaka zavadejici tyto data"
   ]
  },
  {
   "cell_type": "code",
   "execution_count": 38,
   "metadata": {},
   "outputs": [
    {
     "data": {
      "text/plain": [
       "<matplotlib.axes._subplots.AxesSubplot at 0x7f830a882f98>"
      ]
     },
     "execution_count": 38,
     "metadata": {},
     "output_type": "execute_result"
    },
    {
     "data": {
      "image/png": "[encoded data removed]",
      "text/plain": [
       "<Figure size 432x288 with 1 Axes>"
      ]
     },
     "metadata": {
      "needs_background": "light"
     },
     "output_type": "display_data"
    }
   ],
   "source": [
    "df.loc[df.dest == 'NY'].groupby(['pclass', 'survived']).survived.count().unstack().plot(kind='bar')\n",
    "#df.info()"
   ]
  },
  {
   "cell_type": "markdown",
   "metadata": {},
   "source": [
    "* Ja je videt, tak hodne lidi co jelo do New Yorku bylo v prvni tride"
   ]
  },
  {
   "cell_type": "code",
   "execution_count": 39,
   "metadata": {},
   "outputs": [
    {
     "data": {
      "text/plain": [
       "<matplotlib.axes._subplots.AxesSubplot at 0x7f8308140f60>"
      ]
     },
     "execution_count": 39,
     "metadata": {},
     "output_type": "execute_result"
    },
    {
     "data": {
      "image/png": "[encoded data removed]",
      "text/plain": [
       "<Figure size 432x288 with 1 Axes>"
      ]
     },
     "metadata": {
      "needs_background": "light"
     },
     "output_type": "display_data"
    }
   ],
   "source": [
    "df.loc[df.dest == 'XX'].groupby(['pclass', 'survived']).survived.count().unstack().plot(kind='bar')"
   ]
  },
  {
   "cell_type": "markdown",
   "metadata": {},
   "source": [
    "* stejne tak neznama destinace je nejvice u lidi ze treti tridy"
   ]
  },
  {
   "cell_type": "code",
   "execution_count": 40,
   "metadata": {},
   "outputs": [
    {
     "data": {
      "text/plain": [
       "<matplotlib.axes._subplots.AxesSubplot at 0x7f830a6a6cf8>"
      ]
     },
     "execution_count": 40,
     "metadata": {},
     "output_type": "execute_result"
    },
    {
     "data": {
      "image/png": "[encoded data removed]",
      "text/plain": [
       "<Figure size 432x288 with 1 Axes>"
      ]
     },
     "metadata": {
      "needs_background": "light"
     },
     "output_type": "display_data"
    },
    {
     "data": {
      "image/png": "[encoded data removed]",
      "text/plain": [
       "<Figure size 432x288 with 1 Axes>"
      ]
     },
     "metadata": {
      "needs_background": "light"
     },
     "output_type": "display_data"
    },
    {
     "data": {
      "image/png": "[encoded data removed]",
      "text/plain": [
       "<Figure size 432x288 with 1 Axes>"
      ]
     },
     "metadata": {
      "needs_background": "light"
     },
     "output_type": "display_data"
    }
   ],
   "source": [
    "df.loc[df.dest != 'XX'].loc[df.dest != 'NY'].groupby(['pclass', 'survived']).survived.count().unstack().plot(kind='bar')\n",
    "df.groupby(['pclass', 'survived']).survived.count().unstack().plot(kind='bar')\n",
    "\n",
    "df.loc[df.survived == 1].loc[df.dest != 'NY'].loc[df.dest != 'XX'].groupby(['dest', 'pclass' ]).survived.count().unstack().plot(kind='bar')"
   ]
  },
  {
   "cell_type": "markdown",
   "metadata": {},
   "source": [
    "* No ok prozatim ten sloupecek dropnu, protoze mam pocit, ze ponekud zkresluje informace"
   ]
  },
  {
   "cell_type": "code",
   "execution_count": 41,
   "metadata": {},
   "outputs": [],
   "source": [
    "df = df.drop(columns=['home.dest'])\n",
    "df = df.drop(columns=['dest'])"
   ]
  },
  {
   "cell_type": "markdown",
   "metadata": {},
   "source": [
    "# DATA VICEMENE PROZKOUMANA A DOPLNENA\n",
    "* Dobra tak data mame tan nejak jaks taks upravena\n",
    "* Tady shrnuji vsechny drive delane upravy do jedne fuknce - pro snazsi praci s daty ktera pak budeme hadat\n",
    "* reseni je nasledujici\n",
    "\n",
    "\n",
    "* Data bylo ptreba doplit u:\n",
    "    * age - (20%) - ***viz. dalsi soubor***\n",
    "    * fare -> (0,01%) -> ***median(pclass)***\n",
    "    * cabin\t-> (77%) -> {deck-> 'U', cabin_num -> 170} ***(TODO nejak jinak)***\n",
    "    * embarked(0,01%) -> ***most common value***\n",
    "    * home.dest -> ***drop*** ***(TODO nejak vyuzit)***\n",
    "    \n",
    "    \n",
    "* Data bylo treba upravit u:\n",
    "    * ID -> ***drop*** (100% k nicemu)\n",
    "    * pclass -> ***le***\n",
    "    * name -> ***drop*** (vyuzito na nove)\n",
    "    * sex -> ***le***\n",
    "    * age -\n",
    "    * ticket -> ***drop*** (90% k nicemu)\n",
    "    * cabin\t-> ***drop*** (vyuzito na nove)\n",
    "    * embarked -> ***OHE*** ***(TODO dropnout?)***\n",
    "    * home.dest -> ***drop*** ***(TODO vyuzit alespon dest)***\n",
    "    \n",
    "    \n",
    "* Nove sloupecky\n",
    "    * z name\n",
    "        * noble -> ***le***\n",
    "        * military -> ***le***\n",
    "        * honorific -> ***OHE***\n",
    "    \n",
    "    * whole_family <- sibsp + parch\n",
    "    * fare_category <- 0 .. 10 \n",
    "    * age_category <- 0 .. 7\n",
    "    * z cabin\n",
    "        * deck -> ***OHE*** ***(TODO le?)***\n",
    "        * cabin_num ***(TODO drop?)***\n",
    "        * cabin_category <- 0 .. 17  ***(todo nejak kategorizovat - kraje<100 / prostredek>100)***"
   ]
  },
  {
   "cell_type": "code",
   "execution_count": 42,
   "metadata": {},
   "outputs": [],
   "source": [
    "# TADYTA FUNKCE SHRNUJE VSECHNY DOSAVADNI KROKY\n",
    "\n",
    "import pandas as pd\n",
    "import numpy as np\n",
    "from sklearn.preprocessing import LabelEncoder\n",
    "import matplotlib.pyplot as plt\n",
    "import matplotlib\n",
    "%matplotlib inline\n",
    "import warnings\n",
    "warnings.filterwarnings('ignore') # haha. I figured out solution for all warings.\n",
    "\n",
    "def preprocess_dataframe(path_to_csv):\n",
    "    df = pd.read_csv(path_to_csv)\n",
    "    le = LabelEncoder()\n",
    "    \n",
    "    #########\n",
    "    # 0. id #\n",
    "    #########\n",
    "    df = df.drop(columns=['ID'])\n",
    "    \n",
    "    #########\n",
    "    # 1. id #\n",
    "    #########\n",
    "    df.pclass = le.fit_transform(df.pclass)\n",
    "    #pclass_map = {\n",
    "    #1 : 2,\n",
    "    #2 : 1,\n",
    "    #3 : 0,\n",
    "    #}\n",
    "    #df.pclass_map = df.pclass.replace(pclass_map)\n",
    "    \n",
    "    ###########\n",
    "    # 2. name #\n",
    "    ###########\n",
    "    # nobles\n",
    "    df['noble'] = 0\n",
    "    df['noble'][df.name.str.contains('Countess\\.')] = 4\n",
    "    df['noble'][df.name.str.contains('Lady\\.')] = 3\n",
    "    df['noble'][df.name.str.contains('Don\\.')] = 2\n",
    "    df['noble'][df.name.str.contains('Dona\\.')] = 2\n",
    "    df['noble'][df.name.str.contains('Jonkheer\\.')] = 1\n",
    "    \n",
    "    # military\n",
    "    df['military'] = 0\n",
    "    df['military'][df.name.str.contains('Col\\.')] = 3\n",
    "    df['military'][df.name.str.contains('Major\\.')] = 2\n",
    "    df['military'][df.name.str.contains('Capt\\.')] = 1\n",
    "    \n",
    "    # honorific\n",
    "    df['honorific'] = np.NaN\n",
    "    df['honorific'][df.name.str.contains('Mr\\.')] = 'Mr'\n",
    "    df['honorific'][df.name.str.contains('Master\\.')] = 'Master'\n",
    "    df['honorific'][df.name.str.contains('Ms\\.')] = 'Ms'\n",
    "    df['honorific'][df.name.str.contains('Miss\\.')] = 'Miss'\n",
    "    df['honorific'][df.name.str.contains('Mlle\\.')] = 'Miss'\n",
    "    df['honorific'][df.name.str.contains('Mrs\\.')] = 'Mrs'\n",
    "    df['honorific'][df.name.str.contains('Mme\\.')] = 'Mrs'\n",
    "    df['honorific'][df.name.str.contains('Rev\\.')] = 'Rev'\n",
    "    df['honorific'][df.name.str.contains('Dr\\.')] = 'Dr'\n",
    "\n",
    "    honors_onehot = pd.get_dummies(df['honorific'],prefix='h')\n",
    "    df = pd.concat([df.drop(columns=['honorific']), honors_onehot], axis=1)\n",
    "    \n",
    "    # drop name\n",
    "    df = df.drop(columns=['name'])\n",
    "    \n",
    "    ##########\n",
    "    # 3. sex #\n",
    "    ##########\n",
    "    df['sex'] = le.fit_transform(df['sex'])\n",
    "\n",
    "    ##########\n",
    "    # 4. age # + doplnit! (20%) [u testing take 20%]\n",
    "    ########## \n",
    "    #  ... later ....\n",
    "\n",
    "    #####################\n",
    "    # 5. sipsp 6. parch #\n",
    "    #####################\n",
    "    df['whole_family'] = df.sibsp + df.parch\n",
    "\n",
    "    #############\n",
    "    # 7. ticket #\n",
    "    #############\n",
    "    df = df.drop(columns=['ticket'])\n",
    "\n",
    "    ###########\n",
    "    # 8. fare # +doplnit! (0.01%) [median from pclass] ; nic u testing\n",
    "    ###########\n",
    "    if (df['fare'].isnull().values.any() ) :\n",
    "        df['fare'][df.fare.apply(np.isnan)] = df.loc[df.pclass == df.loc[df['fare'][df.fare.apply(np.isnan)].index].pclass.iloc[0] ].fare .median()\n",
    "    \n",
    "    bins = np.arange(1, 10) * 10 # naka fare byla i 500!\n",
    "    df['fare_category'] = np.digitize(df.fare, bins, right=True)\n",
    "\n",
    "    ############ \n",
    "    # 9. cabin # +doplnit! (80%, 20%fc) (deck-> Unknown, Cabin_Num -> 170)  ---> chtelo by to lepe !!!!!! (napr. podle fare / pclass)\n",
    "    ############ u testing 81%\n",
    "    # deck\n",
    "    df.cabin = df.cabin.fillna('U') \n",
    "    df['deck'] = df.cabin.str.replace('[^a-zA-Z]+', '', regex=True).str[0]\n",
    "    \n",
    "    # deck label encoded\n",
    "    deck_map = {\n",
    "        'A' : 0,\n",
    "        'B' : 1,\n",
    "        'C' : 2,\n",
    "        'D' : 3,\n",
    "        'E' : 5,\n",
    "        'F' : 6,\n",
    "        'G' : 7,\n",
    "        'U' : 8,\n",
    "        'T' : 9\n",
    "    }\n",
    "\n",
    "    df.deck = df.deck.replace(deck_map)\n",
    "\n",
    "    # cabin_num\n",
    "    df['cabin_num'] = df.cabin.str.replace(' .*', '').str.replace('[^0-9]+', '', regex=True).str.replace('^$', '170', regex=True)\n",
    "    df.cabin_num = df.cabin_num.fillna(170) # toto vypada podezrele, ale chci odlisit ty co neznam od tech co budou v kategori 0\n",
    "    df.cabin_num = df.cabin_num.astype(np.int64)\n",
    "\n",
    "    # cabin category\n",
    "    bins = np.arange(1, 18) * 10\n",
    "    df['cabin_category'] = np.digitize(df.cabin_num, bins, right=True)\n",
    "    \n",
    "    # samotnou cabin mazeme smazat\n",
    "    df = df.drop(columns=['cabin'])\n",
    "\n",
    "    ################ \n",
    "    # 10. embarked # +doplnit! (0.01%) (nejcastejnsi)\n",
    "    ################ 1x u testing \n",
    "    df.embarked = df.embarked.fillna('S') \n",
    "\n",
    "    # OHC\n",
    "    emb_onehot = pd.get_dummies(df['embarked'],prefix='em')\n",
    "    df = pd.concat([df.drop(columns=['embarked']), emb_onehot], axis=1)\n",
    "                                       \n",
    "    #################\n",
    "    # 11. home.dest # +doplnit! (40%, dest 55%) (???)\n",
    "    ################# [55% u testing]\n",
    "    df = df.drop(columns=['home.dest'])\n",
    "    # PUVODNE JSEM TO NEDROPOVAL, ALE NAKONEC MI TO PRISLO JAKO LEPSI VARIANTA....\n",
    "    # okopiruju\n",
    "    #df['dest'] = df['home.dest']\n",
    "    # ty co nekonci na [a-z][a-z] budou null\n",
    "    #df['dest'] = df['home.dest'].mask(df['home.dest'].str.contains('[A-Z][A-Z]$', regex=True) == False) \n",
    "    # ty co konci na [a-z][a-z] budou jen posledni dva znaky\n",
    "    #df['dest'] = df['dest'].mask(df['dest'].str.contains('[A-Z][A-Z]$', regex=True) == True, other=df['dest'].str[-2:])\n",
    "\n",
    "    return df"
   ]
  },
  {
   "cell_type": "markdown",
   "metadata": {},
   "source": [
    "# Tedka musime jeste vyresit ten age\n",
    "* Rozhodnoul jsem se udelat age group a delat klasifikaci, protoze urcovat presny vek mi prijde zbytecne a ta regrese si myslim (neovereno) by mela horsi vysledky"
   ]
  },
  {
   "cell_type": "code",
   "execution_count": 43,
   "metadata": {},
   "outputs": [
    {
     "data": {
      "text/plain": [
       "<matplotlib.axes._subplots.AxesSubplot at 0x7f833c16f588>"
      ]
     },
     "execution_count": 43,
     "metadata": {},
     "output_type": "execute_result"
    },
    {
     "data": {
      "image/png": "[encoded data removed]",
      "text/plain": [
       "<Figure size 432x288 with 1 Axes>"
      ]
     },
     "metadata": {
      "needs_background": "light"
     },
     "output_type": "display_data"
    }
   ],
   "source": [
    "df = preprocess_dataframe('data.csv')\n",
    "# Here I am trying to find right amout of age groups\n",
    "# by visually analysing i assumed that 5, 7, and 10 give best results\n",
    "\n",
    "# df['age_group_2'] = pd.cut(df['age'], 2)\n",
    "# df['age_group_3'] = pd.cut(df['age'], 3)\n",
    "# df['age_group_4'] = pd.cut(df['age'], 4)\n",
    "df['age_group_5'] = pd.cut(df['age'], 5)\n",
    "# df['age_group_6'] = pd.cut(df['age'], 6)\n",
    "# df['age_group_7'] = pd.cut(df['age'], 7)\n",
    "# df['age_group_8'] = pd.cut(df['age'], 8)\n",
    "# df['age_group_9'] = pd.cut(df['age'], 9)\n",
    "# df['age_group_10'] = pd.cut(df['age'], 10)\n",
    "\n",
    "# df[['age_group_2', 'survived']].groupby(['age_group_2']).mean().sort_values(by='age_group_2', ascending=True).plot(kind='bar')\n",
    "# df[['age_group_3', 'survived']].groupby(['age_group_3']).mean().sort_values(by='age_group_3', ascending=True).plot(kind='bar')\n",
    "# df[['age_group_4', 'survived']].groupby(['age_group_4']).mean().sort_values(by='age_group_4', ascending=True).plot(kind='bar')\n",
    "df[['age_group_5', 'survived']].groupby(['age_group_5']).mean().sort_values(by='age_group_5', ascending=True).plot(kind='bar')\n",
    "# df[['age_group_6', 'survived']].groupby(['age_group_6']).mean().sort_values(by='age_group_6', ascending=True).plot(kind='bar')\n",
    "# df[['age_group_7', 'survived']].groupby(['age_group_7']).mean().sort_values(by='age_group_7', ascending=True).plot(kind='bar')\n",
    "# df[['age_group_8', 'survived']].groupby(['age_group_8']).mean().sort_values(by='age_group_8', ascending=True).plot(kind='bar')\n",
    "# df[['age_group_9', 'survived']].groupby(['age_group_9']).mean().sort_values(by='age_group_9', ascending=True).plot(kind='bar')\n",
    "# df[['age_group_10', 'survived']].groupby(['age_group_10']).mean().sort_values(by='age_group_10', ascending=True).plot(kind='bar')\n",
    "#df['age_group'] = pd.cut(df['age'], 5)"
   ]
  },
  {
   "cell_type": "markdown",
   "metadata": {},
   "source": [
    "### Podle \"oka\" jsem se tak nejak dopracoval k 5ti kategorim (7 a 9 by take nemuselo byt spatne)\n",
    "* Zde je tedy funkce, ktera zmeni v datestu age na kyzene age_groups"
   ]
  },
  {
   "cell_type": "code",
   "execution_count": 44,
   "metadata": {},
   "outputs": [],
   "source": [
    "def preprocess_and_encode_age(filename):\n",
    "    df = preprocess_dataframe(filename)\n",
    "    five_categories = np.array([0.0, 16.133, 32.1, 48.067, 64.033, 81])\n",
    "    df['age_group_enc'] = np.digitize(df.age, five_categories)\n",
    "    df.loc[df.age.apply(np.isnan), 'age_group_enc'] = np.nan\n",
    "    df = df.drop(columns= ['age'])\n",
    "    return df"
   ]
  },
  {
   "cell_type": "markdown",
   "metadata": {},
   "source": [
    "# NO A TO JE VSE - POKRACOVANI V SOUBORU training_and_prediction\n",
    "# Tam jsou i modely, ktere budou odhadovat age_group"
   ]
  }
 ],
 "metadata": {
  "kernelspec": {
   "display_name": "Python 3",
   "language": "python",
   "name": "python3"
  },
  "language_info": {
   "codemirror_mode": {
    "name": "ipython",
    "version": 3
   },
   "file_extension": ".py",
   "mimetype": "text/x-python",
   "name": "python",
   "nbconvert_exporter": "python",
   "pygments_lexer": "ipython3",
   "version": "3.7.0"
  }
 },
 "nbformat": 4,
 "nbformat_minor": 2
}
